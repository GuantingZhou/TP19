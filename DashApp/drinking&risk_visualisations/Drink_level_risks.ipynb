{
 "cells": [
  {
   "cell_type": "code",
   "execution_count": 74,
   "id": "104b9530",
   "metadata": {},
   "outputs": [
    {
     "name": "stderr",
     "output_type": "stream",
     "text": [
      "C:\\Users\\snk_n\\AppData\\Local\\Temp\\ipykernel_22952\\1595375324.py:55: SettingWithCopyWarning:\n",
      "\n",
      "\n",
      "A value is trying to be set on a copy of a slice from a DataFrame.\n",
      "Try using .loc[row_indexer,col_indexer] = value instead\n",
      "\n",
      "See the caveats in the documentation: https://pandas.pydata.org/pandas-docs/stable/user_guide/indexing.html#returning-a-view-versus-a-copy\n",
      "\n",
      "C:\\Users\\snk_n\\AppData\\Local\\Temp\\ipykernel_22952\\1595375324.py:56: SettingWithCopyWarning:\n",
      "\n",
      "\n",
      "A value is trying to be set on a copy of a slice from a DataFrame\n",
      "\n",
      "See the caveats in the documentation: https://pandas.pydata.org/pandas-docs/stable/user_guide/indexing.html#returning-a-view-versus-a-copy\n",
      "\n"
     ]
    },
    {
     "data": {
      "text/html": [
       "<div>\n",
       "<style scoped>\n",
       "    .dataframe tbody tr th:only-of-type {\n",
       "        vertical-align: middle;\n",
       "    }\n",
       "\n",
       "    .dataframe tbody tr th {\n",
       "        vertical-align: top;\n",
       "    }\n",
       "\n",
       "    .dataframe thead th {\n",
       "        text-align: right;\n",
       "    }\n",
       "</style>\n",
       "<table border=\"1\" class=\"dataframe\">\n",
       "  <thead>\n",
       "    <tr style=\"text-align: right;\">\n",
       "      <th></th>\n",
       "      <th>Drink Type</th>\n",
       "      <th>Number of Standard Drinkings</th>\n",
       "    </tr>\n",
       "  </thead>\n",
       "  <tbody>\n",
       "    <tr>\n",
       "      <th>0</th>\n",
       "      <td>Full/Mid-strength Beer</td>\n",
       "      <td>1.1</td>\n",
       "    </tr>\n",
       "    <tr>\n",
       "      <th>2</th>\n",
       "      <td>Glass Wine</td>\n",
       "      <td>1.5</td>\n",
       "    </tr>\n",
       "    <tr>\n",
       "      <th>4</th>\n",
       "      <td>Bottle Wine</td>\n",
       "      <td>7.7</td>\n",
       "    </tr>\n",
       "    <tr>\n",
       "      <th>8</th>\n",
       "      <td>Low-strength Beer</td>\n",
       "      <td>0.6</td>\n",
       "    </tr>\n",
       "  </tbody>\n",
       "</table>\n",
       "</div>"
      ],
      "text/plain": [
       "               Drink Type  Number of Standard Drinkings\n",
       "0  Full/Mid-strength Beer                           1.1\n",
       "2              Glass Wine                           1.5\n",
       "4             Bottle Wine                           7.7\n",
       "8       Low-strength Beer                           0.6"
      ]
     },
     "execution_count": 74,
     "metadata": {},
     "output_type": "execute_result"
    }
   ],
   "source": [
    "#!/usr/bin/env python\n",
    "# coding: utf-8\n",
    "\n",
    "# In[23]:\n",
    "\n",
    "import pandas as pd\n",
    "#import dash\n",
    "#from dash import Dash, dcc, html, Input, Output, State, no_update\n",
    "#import dash_bootstrap_components as dbc\n",
    "import plotly.express as px\n",
    "import numpy as np\n",
    "\n",
    "import chart_studio as cs\n",
    "import chart_studio.plotly as py\n",
    "\n",
    "#PATH = pathlib.Path(__file__).parent\n",
    "#DATA_PATH = PATH.joinpath(\"data\").resolve()\n",
    "\n",
    "\n",
    "activity_data = pd.read_csv('activity_data.csv')\n",
    "calorie_data = pd.read_csv('calorie_drinking.csv')\n",
    "\n",
    "activity_data_wt = pd.melt(activity_data, id_vars=['activity','activity_type'], \n",
    "                            value_vars=['130lb', '155lb', '180lb', '205lb', 'Average Weight'],\n",
    "                            var_name='Your Weight', value_name='Burnt Calorie')\n",
    "\n",
    "# create a list of our conditions\n",
    "conditions1 = [\n",
    "    (activity_data_wt['Burnt Calorie'] <= 300),\n",
    "    (activity_data_wt['Burnt Calorie'] > 300) & (activity_data_wt['Burnt Calorie'] <= 600),\n",
    "    (activity_data_wt['Burnt Calorie'] > 600) & (activity_data_wt['Burnt Calorie'] <= 900),\n",
    "    (activity_data_wt['Burnt Calorie'] > 900) & (activity_data_wt['Burnt Calorie'] <= 1200),\n",
    "    (activity_data_wt['Burnt Calorie'] >1200 )]\n",
    "\n",
    "# create a list of the values we want to assign for each condition\n",
    "values = ['Low', 'Moderate', 'High', 'Very High', 'Extreme']\n",
    "\n",
    "# create a new column and use np.select to assign values to it using our lists as arguments\n",
    "activity_data_wt['Severity'] = np.select(conditions1, values)\n",
    "\n",
    "conditions2 = [\n",
    "    (calorie_data['Number of Standard Drinkings'] <= 5),\n",
    "    (calorie_data['Number of Standard Drinkings'] > 5) & (calorie_data['Number of Standard Drinkings'] <= 10),\n",
    "    (calorie_data['Number of Standard Drinkings'] > 10) & (calorie_data['Number of Standard Drinkings'] <= 20),\n",
    "    (calorie_data['Number of Standard Drinkings'] > 20) & (calorie_data['Number of Standard Drinkings'] <= 27),\n",
    "    (calorie_data['Number of Standard Drinkings'] >27)]\n",
    "\n",
    "# create a list of the values we want to assign for each condition\n",
    "values2 = ['Minimum', 'Low', 'Life-Time', 'Severe Life-Time', 'Severe Life-Time & Single Occasion']\n",
    "\n",
    "calorie_data['Risk Level'] = np.select(conditions2, values2)\n",
    "\n",
    "df = calorie_data\n",
    "df = df.loc[df['Activity'].isin(['Full/Mid-strength Beer','Low-strength Beer', 'Glass Wine','Bottle Wine'])]\n",
    "df['Calorie'] = df['Drink Quantity'] * df['Calorie in Alcohol']\n",
    "df.rename(columns = {'Activity':'Drink Type'}, inplace=True)\n",
    "\n",
    "df_calorie = df.loc[df['Drink Quantity']==1]\n",
    "df_calorie = df_calorie[['Drink Type','Number of Standard Drinkings']]\n",
    "df_calorie\n"
   ]
  },
  {
   "cell_type": "code",
   "execution_count": 131,
   "id": "cd2976d7",
   "metadata": {},
   "outputs": [
    {
     "data": {
      "application/vnd.plotly.v1+json": {
       "config": {
        "displayModeBar": false,
        "plotlyServerURL": "https://plotly.com",
        "showTips": false
       },
       "data": [
        {
         "hovertemplate": "Risk Level=Minimum<br>Drink Type=Full/Mid-strength Beer<br>Drink Quantity=%{marker.size}<br>Number of Standard Drinkings=%{y}<extra></extra>",
         "legendgroup": "Minimum",
         "marker": {
          "color": "lightgreen",
          "size": [
           1,
           2,
           3,
           4
          ],
          "sizemode": "area",
          "sizeref": 0.125,
          "symbol": "circle"
         },
         "mode": "markers",
         "name": "Minimum",
         "orientation": "v",
         "showlegend": true,
         "type": "scatter",
         "x": [
          1,
          2,
          3,
          4
         ],
         "xaxis": "x",
         "y": [
          1.1,
          2.2,
          3.3,
          4.4
         ],
         "yaxis": "y"
        },
        {
         "hovertemplate": "Risk Level=Minimum<br>Drink Type=Glass Wine<br>Drink Quantity=%{marker.size}<br>Number of Standard Drinkings=%{y}<extra></extra>",
         "legendgroup": "Minimum",
         "marker": {
          "color": "lightgreen",
          "size": [
           1,
           2,
           3
          ],
          "sizemode": "area",
          "sizeref": 0.125,
          "symbol": "circle"
         },
         "mode": "markers",
         "name": "Minimum",
         "orientation": "v",
         "showlegend": false,
         "type": "scatter",
         "x": [
          1,
          2,
          3
         ],
         "xaxis": "x2",
         "y": [
          1.5,
          3,
          4.5
         ],
         "yaxis": "y2"
        },
        {
         "hovertemplate": "Risk Level=Minimum<br>Drink Type=Low-strength Beer<br>Drink Quantity=%{marker.size}<br>Number of Standard Drinkings=%{y}<extra></extra>",
         "legendgroup": "Minimum",
         "marker": {
          "color": "lightgreen",
          "size": [
           1,
           2,
           3,
           4,
           5,
           6,
           7,
           8
          ],
          "sizemode": "area",
          "sizeref": 0.125,
          "symbol": "circle"
         },
         "mode": "markers",
         "name": "Minimum",
         "orientation": "v",
         "showlegend": false,
         "type": "scatter",
         "x": [
          1,
          2,
          3,
          4,
          5,
          6,
          7,
          8
         ],
         "xaxis": "x4",
         "y": [
          0.6,
          1.2,
          1.8,
          2.4,
          3,
          3.6,
          4.2,
          4.8
         ],
         "yaxis": "y4"
        },
        {
         "hovertemplate": "Risk Level=Low<br>Drink Type=Full/Mid-strength Beer<br>Drink Quantity=%{marker.size}<br>Number of Standard Drinkings=%{y}<extra></extra>",
         "legendgroup": "Low",
         "marker": {
          "color": "cyan",
          "size": [
           5,
           6,
           7,
           8,
           9
          ],
          "sizemode": "area",
          "sizeref": 0.125,
          "symbol": "circle"
         },
         "mode": "markers",
         "name": "Low",
         "orientation": "v",
         "showlegend": true,
         "type": "scatter",
         "x": [
          5,
          6,
          7,
          8,
          9
         ],
         "xaxis": "x",
         "y": [
          5.5,
          6.6,
          7.7,
          8.8,
          9.9
         ],
         "yaxis": "y"
        },
        {
         "hovertemplate": "Risk Level=Low<br>Drink Type=Glass Wine<br>Drink Quantity=%{marker.size}<br>Number of Standard Drinkings=%{y}<extra></extra>",
         "legendgroup": "Low",
         "marker": {
          "color": "cyan",
          "size": [
           4,
           5,
           6
          ],
          "sizemode": "area",
          "sizeref": 0.125,
          "symbol": "circle"
         },
         "mode": "markers",
         "name": "Low",
         "orientation": "v",
         "showlegend": false,
         "type": "scatter",
         "x": [
          4,
          5,
          6
         ],
         "xaxis": "x2",
         "y": [
          6,
          7.5,
          9
         ],
         "yaxis": "y2"
        },
        {
         "hovertemplate": "Risk Level=Low<br>Drink Type=Bottle Wine<br>Drink Quantity=%{marker.size}<br>Number of Standard Drinkings=%{y}<extra></extra>",
         "legendgroup": "Low",
         "marker": {
          "color": "cyan",
          "size": [
           1
          ],
          "sizemode": "area",
          "sizeref": 0.125,
          "symbol": "circle"
         },
         "mode": "markers",
         "name": "Low",
         "orientation": "v",
         "showlegend": false,
         "type": "scatter",
         "x": [
          1
         ],
         "xaxis": "x3",
         "y": [
          7.7
         ],
         "yaxis": "y3"
        },
        {
         "hovertemplate": "Risk Level=Low<br>Drink Type=Low-strength Beer<br>Drink Quantity=%{marker.size}<br>Number of Standard Drinkings=%{y}<extra></extra>",
         "legendgroup": "Low",
         "marker": {
          "color": "cyan",
          "size": [
           9,
           10,
           11,
           12,
           13,
           14,
           15,
           16
          ],
          "sizemode": "area",
          "sizeref": 0.125,
          "symbol": "circle"
         },
         "mode": "markers",
         "name": "Low",
         "orientation": "v",
         "showlegend": false,
         "type": "scatter",
         "x": [
          9,
          10,
          11,
          12,
          13,
          14,
          15,
          16
         ],
         "xaxis": "x4",
         "y": [
          5.4,
          6,
          6.6,
          7.2,
          7.8,
          8.4,
          9,
          9.6
         ],
         "yaxis": "y4"
        },
        {
         "hovertemplate": "Risk Level=Life-Time<br>Drink Type=Full/Mid-strength Beer<br>Drink Quantity=%{marker.size}<br>Number of Standard Drinkings=%{y}<extra></extra>",
         "legendgroup": "Life-Time",
         "marker": {
          "color": "yellow",
          "size": [
           10,
           11,
           12,
           13,
           14,
           15,
           16,
           17,
           18
          ],
          "sizemode": "area",
          "sizeref": 0.125,
          "symbol": "circle"
         },
         "mode": "markers",
         "name": "Life-Time",
         "orientation": "v",
         "showlegend": true,
         "type": "scatter",
         "x": [
          10,
          11,
          12,
          13,
          14,
          15,
          16,
          17,
          18
         ],
         "xaxis": "x",
         "y": [
          11,
          12.1,
          13.2,
          14.3,
          15.4,
          16.5,
          17.6,
          18.7,
          19.8
         ],
         "yaxis": "y"
        },
        {
         "hovertemplate": "Risk Level=Life-Time<br>Drink Type=Glass Wine<br>Drink Quantity=%{marker.size}<br>Number of Standard Drinkings=%{y}<extra></extra>",
         "legendgroup": "Life-Time",
         "marker": {
          "color": "yellow",
          "size": [
           7,
           8,
           9,
           10,
           11,
           12,
           13
          ],
          "sizemode": "area",
          "sizeref": 0.125,
          "symbol": "circle"
         },
         "mode": "markers",
         "name": "Life-Time",
         "orientation": "v",
         "showlegend": false,
         "type": "scatter",
         "x": [
          7,
          8,
          9,
          10,
          11,
          12,
          13
         ],
         "xaxis": "x2",
         "y": [
          10.5,
          12,
          13.5,
          15,
          16.5,
          18,
          19.5
         ],
         "yaxis": "y2"
        },
        {
         "hovertemplate": "Risk Level=Life-Time<br>Drink Type=Bottle Wine<br>Drink Quantity=%{marker.size}<br>Number of Standard Drinkings=%{y}<extra></extra>",
         "legendgroup": "Life-Time",
         "marker": {
          "color": "yellow",
          "size": [
           2
          ],
          "sizemode": "area",
          "sizeref": 0.125,
          "symbol": "circle"
         },
         "mode": "markers",
         "name": "Life-Time",
         "orientation": "v",
         "showlegend": false,
         "type": "scatter",
         "x": [
          2
         ],
         "xaxis": "x3",
         "y": [
          15.4
         ],
         "yaxis": "y3"
        },
        {
         "hovertemplate": "Risk Level=Life-Time<br>Drink Type=Low-strength Beer<br>Drink Quantity=%{marker.size}<br>Number of Standard Drinkings=%{y}<extra></extra>",
         "legendgroup": "Life-Time",
         "marker": {
          "color": "yellow",
          "size": [
           17,
           18,
           19,
           20,
           21,
           22,
           23,
           24,
           25,
           26,
           27,
           28,
           29,
           30,
           31,
           32,
           33
          ],
          "sizemode": "area",
          "sizeref": 0.125,
          "symbol": "circle"
         },
         "mode": "markers",
         "name": "Life-Time",
         "orientation": "v",
         "showlegend": false,
         "type": "scatter",
         "x": [
          17,
          18,
          19,
          20,
          21,
          22,
          23,
          24,
          25,
          26,
          27,
          28,
          29,
          30,
          31,
          32,
          33
         ],
         "xaxis": "x4",
         "y": [
          10.2,
          10.8,
          11.4,
          12,
          12.6,
          13.2,
          13.8,
          14.4,
          15,
          15.6,
          16.2,
          16.8,
          17.4,
          18,
          18.6,
          19.2,
          19.8
         ],
         "yaxis": "y4"
        },
        {
         "hovertemplate": "Risk Level=Severe Life-Time<br>Drink Type=Full/Mid-strength Beer<br>Drink Quantity=%{marker.size}<br>Number of Standard Drinkings=%{y}<extra></extra>",
         "legendgroup": "Severe Life-Time",
         "marker": {
          "color": "orange",
          "size": [
           19,
           20,
           21,
           22,
           23,
           24
          ],
          "sizemode": "area",
          "sizeref": 0.125,
          "symbol": "circle"
         },
         "mode": "markers",
         "name": "Severe Life-Time",
         "orientation": "v",
         "showlegend": true,
         "type": "scatter",
         "x": [
          19,
          20,
          21,
          22,
          23,
          24
         ],
         "xaxis": "x",
         "y": [
          20.9,
          22,
          23.1,
          24.2,
          25.3,
          26.4
         ],
         "yaxis": "y"
        },
        {
         "hovertemplate": "Risk Level=Severe Life-Time<br>Drink Type=Glass Wine<br>Drink Quantity=%{marker.size}<br>Number of Standard Drinkings=%{y}<extra></extra>",
         "legendgroup": "Severe Life-Time",
         "marker": {
          "color": "orange",
          "size": [
           14,
           15,
           16,
           17,
           18
          ],
          "sizemode": "area",
          "sizeref": 0.125,
          "symbol": "circle"
         },
         "mode": "markers",
         "name": "Severe Life-Time",
         "orientation": "v",
         "showlegend": false,
         "type": "scatter",
         "x": [
          14,
          15,
          16,
          17,
          18
         ],
         "xaxis": "x2",
         "y": [
          21,
          22.5,
          24,
          25.5,
          27
         ],
         "yaxis": "y2"
        },
        {
         "hovertemplate": "Risk Level=Severe Life-Time<br>Drink Type=Bottle Wine<br>Drink Quantity=%{marker.size}<br>Number of Standard Drinkings=%{y}<extra></extra>",
         "legendgroup": "Severe Life-Time",
         "marker": {
          "color": "orange",
          "size": [
           3
          ],
          "sizemode": "area",
          "sizeref": 0.125,
          "symbol": "circle"
         },
         "mode": "markers",
         "name": "Severe Life-Time",
         "orientation": "v",
         "showlegend": false,
         "type": "scatter",
         "x": [
          3
         ],
         "xaxis": "x3",
         "y": [
          23.1
         ],
         "yaxis": "y3"
        },
        {
         "hovertemplate": "Risk Level=Severe Life-Time<br>Drink Type=Low-strength Beer<br>Drink Quantity=%{marker.size}<br>Number of Standard Drinkings=%{y}<extra></extra>",
         "legendgroup": "Severe Life-Time",
         "marker": {
          "color": "orange",
          "size": [
           34,
           35,
           36,
           37,
           38,
           39,
           40,
           41,
           42,
           43,
           44,
           45
          ],
          "sizemode": "area",
          "sizeref": 0.125,
          "symbol": "circle"
         },
         "mode": "markers",
         "name": "Severe Life-Time",
         "orientation": "v",
         "showlegend": false,
         "type": "scatter",
         "x": [
          34,
          35,
          36,
          37,
          38,
          39,
          40,
          41,
          42,
          43,
          44,
          45
         ],
         "xaxis": "x4",
         "y": [
          20.4,
          21,
          21.6,
          22.2,
          22.8,
          23.4,
          24,
          24.6,
          25.2,
          25.8,
          26.4,
          27
         ],
         "yaxis": "y4"
        },
        {
         "hovertemplate": "Risk Level=Severe Life-Time & Single Occasion<br>Drink Type=Full/Mid-strength Beer<br>Drink Quantity=%{marker.size}<br>Number of Standard Drinkings=%{y}<extra></extra>",
         "legendgroup": "Severe Life-Time & Single Occasion",
         "marker": {
          "color": "red",
          "size": [
           25,
           26,
           27,
           28,
           29,
           30,
           31,
           32,
           33,
           34,
           35,
           36,
           37,
           38,
           39,
           40,
           41,
           42,
           43,
           44,
           45,
           46,
           47,
           48,
           49,
           50
          ],
          "sizemode": "area",
          "sizeref": 0.125,
          "symbol": "circle"
         },
         "mode": "markers",
         "name": "Severe Life-Time & Single Occasion",
         "orientation": "v",
         "showlegend": true,
         "type": "scatter",
         "x": [
          25,
          26,
          27,
          28,
          29,
          30,
          31,
          32,
          33,
          34,
          35,
          36,
          37,
          38,
          39,
          40,
          41,
          42,
          43,
          44,
          45,
          46,
          47,
          48,
          49,
          50
         ],
         "xaxis": "x",
         "y": [
          27.5,
          28.6,
          29.7,
          30.8,
          31.9,
          33,
          34.1,
          35.2,
          36.3,
          37.4,
          38.5,
          39.6,
          40.7,
          41.8,
          42.9,
          44,
          45.1,
          46.2,
          47.3,
          48.4,
          49.5,
          50.6,
          51.7,
          52.8,
          53.9,
          55
         ],
         "yaxis": "y"
        },
        {
         "hovertemplate": "Risk Level=Severe Life-Time & Single Occasion<br>Drink Type=Glass Wine<br>Drink Quantity=%{marker.size}<br>Number of Standard Drinkings=%{y}<extra></extra>",
         "legendgroup": "Severe Life-Time & Single Occasion",
         "marker": {
          "color": "red",
          "size": [
           19,
           20,
           21,
           22,
           23,
           24,
           25,
           26,
           27,
           28,
           29,
           30,
           31,
           32,
           33,
           34,
           35,
           36,
           37,
           38,
           39,
           40,
           41,
           42,
           43,
           44,
           45,
           46,
           47,
           48,
           49,
           50
          ],
          "sizemode": "area",
          "sizeref": 0.125,
          "symbol": "circle"
         },
         "mode": "markers",
         "name": "Severe Life-Time & Single Occasion",
         "orientation": "v",
         "showlegend": false,
         "type": "scatter",
         "x": [
          19,
          20,
          21,
          22,
          23,
          24,
          25,
          26,
          27,
          28,
          29,
          30,
          31,
          32,
          33,
          34,
          35,
          36,
          37,
          38,
          39,
          40,
          41,
          42,
          43,
          44,
          45,
          46,
          47,
          48,
          49,
          50
         ],
         "xaxis": "x2",
         "y": [
          28.5,
          30,
          31.5,
          33,
          34.5,
          36,
          37.5,
          39,
          40.5,
          42,
          43.5,
          45,
          46.5,
          48,
          49.5,
          51,
          52.5,
          54,
          55.5,
          57,
          58.5,
          60,
          61.5,
          63,
          64.5,
          66,
          67.5,
          69,
          70.5,
          72,
          73.5,
          75
         ],
         "yaxis": "y2"
        },
        {
         "hovertemplate": "Risk Level=Severe Life-Time & Single Occasion<br>Drink Type=Bottle Wine<br>Drink Quantity=%{marker.size}<br>Number of Standard Drinkings=%{y}<extra></extra>",
         "legendgroup": "Severe Life-Time & Single Occasion",
         "marker": {
          "color": "red",
          "size": [
           4,
           5,
           6,
           7,
           8,
           9,
           10,
           11,
           12,
           13,
           14,
           15,
           16,
           17,
           18,
           19,
           20,
           21,
           22,
           23,
           24,
           25,
           26,
           27,
           28,
           29,
           30
          ],
          "sizemode": "area",
          "sizeref": 0.125,
          "symbol": "circle"
         },
         "mode": "markers",
         "name": "Severe Life-Time & Single Occasion",
         "orientation": "v",
         "showlegend": false,
         "type": "scatter",
         "x": [
          4,
          5,
          6,
          7,
          8,
          9,
          10,
          11,
          12,
          13,
          14,
          15,
          16,
          17,
          18,
          19,
          20,
          21,
          22,
          23,
          24,
          25,
          26,
          27,
          28,
          29,
          30
         ],
         "xaxis": "x3",
         "y": [
          30.8,
          38.5,
          46.2,
          53.9,
          61.6,
          69.3,
          77,
          84.7,
          92.4,
          100.1,
          107.8,
          115.5,
          123.2,
          130.9,
          138.6,
          146.3,
          154,
          161.7,
          169.4,
          177.1,
          184.8,
          192.5,
          200.2,
          207.9,
          215.6,
          223.3,
          231
         ],
         "yaxis": "y3"
        },
        {
         "hovertemplate": "Risk Level=Severe Life-Time & Single Occasion<br>Drink Type=Low-strength Beer<br>Drink Quantity=%{marker.size}<br>Number of Standard Drinkings=%{y}<extra></extra>",
         "legendgroup": "Severe Life-Time & Single Occasion",
         "marker": {
          "color": "red",
          "size": [
           46,
           47,
           48,
           49,
           50
          ],
          "sizemode": "area",
          "sizeref": 0.125,
          "symbol": "circle"
         },
         "mode": "markers",
         "name": "Severe Life-Time & Single Occasion",
         "orientation": "v",
         "showlegend": false,
         "type": "scatter",
         "x": [
          46,
          47,
          48,
          49,
          50
         ],
         "xaxis": "x4",
         "y": [
          27.6,
          28.2,
          28.8,
          29.4,
          30
         ],
         "yaxis": "y4"
        }
       ],
       "layout": {
        "annotations": [
         {
          "showarrow": false,
          "text": "Full/Mid-strength Beer",
          "x": 0.1175,
          "xanchor": "center",
          "xref": "paper",
          "y": 1,
          "yanchor": "bottom",
          "yref": "paper"
         },
         {
          "showarrow": false,
          "text": "Glass Wine",
          "x": 0.3725,
          "xanchor": "center",
          "xref": "paper",
          "y": 1,
          "yanchor": "bottom",
          "yref": "paper"
         },
         {
          "showarrow": false,
          "text": "Bottle Wine",
          "x": 0.6275,
          "xanchor": "center",
          "xref": "paper",
          "y": 1,
          "yanchor": "bottom",
          "yref": "paper"
         },
         {
          "showarrow": false,
          "text": "Low-strength Beer",
          "x": 0.8824999999999998,
          "xanchor": "center",
          "xref": "paper",
          "y": 1,
          "yanchor": "bottom",
          "yref": "paper"
         },
         {
          "font": {
           "color": "white",
           "size": 10
          },
          "showarrow": false,
          "text": "Safe dinking <= 10 standard drinks",
          "x": 1,
          "xanchor": "right",
          "xref": "x domain",
          "y": 10,
          "yanchor": "top",
          "yref": "y"
         },
         {
          "font": {
           "color": "white",
           "size": 10
          },
          "showarrow": false,
          "text": "Safe dinking <= 10 standard drinks",
          "x": 1,
          "xanchor": "right",
          "xref": "x2 domain",
          "y": 10,
          "yanchor": "top",
          "yref": "y2"
         },
         {
          "font": {
           "color": "white",
           "size": 10
          },
          "showarrow": false,
          "text": "Safe dinking <= 10 standard drinks",
          "x": 1,
          "xanchor": "right",
          "xref": "x3 domain",
          "y": 10,
          "yanchor": "top",
          "yref": "y3"
         },
         {
          "font": {
           "color": "white",
           "size": 10
          },
          "showarrow": false,
          "text": "Safe dinking <= 10 standard drinks",
          "x": 1,
          "xanchor": "right",
          "xref": "x4 domain",
          "y": 10,
          "yanchor": "top",
          "yref": "y4"
         }
        ],
        "font": {
         "family": "Verdana",
         "size": 11
        },
        "height": 600,
        "hovermode": "closest",
        "legend": {
         "itemsizing": "constant",
         "orientation": "h",
         "title": {
          "text": "Risk Level"
         },
         "tracegroupgap": 0,
         "x": 0.8,
         "xanchor": "right",
         "y": -0.3,
         "yanchor": "bottom"
        },
        "shapes": [
         {
          "line": {
           "dash": "dot"
          },
          "type": "line",
          "x0": 0,
          "x1": 1,
          "xref": "x domain",
          "y0": 10,
          "y1": 10,
          "yref": "y"
         },
         {
          "line": {
           "dash": "dot"
          },
          "type": "line",
          "x0": 0,
          "x1": 1,
          "xref": "x2 domain",
          "y0": 10,
          "y1": 10,
          "yref": "y2"
         },
         {
          "line": {
           "dash": "dot"
          },
          "type": "line",
          "x0": 0,
          "x1": 1,
          "xref": "x3 domain",
          "y0": 10,
          "y1": 10,
          "yref": "y3"
         },
         {
          "line": {
           "dash": "dot"
          },
          "type": "line",
          "x0": 0,
          "x1": 1,
          "xref": "x4 domain",
          "y0": 10,
          "y1": 10,
          "yref": "y4"
         }
        ],
        "template": {
         "data": {
          "bar": [
           {
            "error_x": {
             "color": "#f2f5fa"
            },
            "error_y": {
             "color": "#f2f5fa"
            },
            "marker": {
             "line": {
              "color": "rgb(17,17,17)",
              "width": 0.5
             },
             "pattern": {
              "fillmode": "overlay",
              "size": 10,
              "solidity": 0.2
             }
            },
            "type": "bar"
           }
          ],
          "barpolar": [
           {
            "marker": {
             "line": {
              "color": "rgb(17,17,17)",
              "width": 0.5
             },
             "pattern": {
              "fillmode": "overlay",
              "size": 10,
              "solidity": 0.2
             }
            },
            "type": "barpolar"
           }
          ],
          "carpet": [
           {
            "aaxis": {
             "endlinecolor": "#A2B1C6",
             "gridcolor": "#506784",
             "linecolor": "#506784",
             "minorgridcolor": "#506784",
             "startlinecolor": "#A2B1C6"
            },
            "baxis": {
             "endlinecolor": "#A2B1C6",
             "gridcolor": "#506784",
             "linecolor": "#506784",
             "minorgridcolor": "#506784",
             "startlinecolor": "#A2B1C6"
            },
            "type": "carpet"
           }
          ],
          "choropleth": [
           {
            "colorbar": {
             "outlinewidth": 0,
             "ticks": ""
            },
            "type": "choropleth"
           }
          ],
          "contour": [
           {
            "colorbar": {
             "outlinewidth": 0,
             "ticks": ""
            },
            "colorscale": [
             [
              0,
              "#0d0887"
             ],
             [
              0.1111111111111111,
              "#46039f"
             ],
             [
              0.2222222222222222,
              "#7201a8"
             ],
             [
              0.3333333333333333,
              "#9c179e"
             ],
             [
              0.4444444444444444,
              "#bd3786"
             ],
             [
              0.5555555555555556,
              "#d8576b"
             ],
             [
              0.6666666666666666,
              "#ed7953"
             ],
             [
              0.7777777777777778,
              "#fb9f3a"
             ],
             [
              0.8888888888888888,
              "#fdca26"
             ],
             [
              1,
              "#f0f921"
             ]
            ],
            "type": "contour"
           }
          ],
          "contourcarpet": [
           {
            "colorbar": {
             "outlinewidth": 0,
             "ticks": ""
            },
            "type": "contourcarpet"
           }
          ],
          "heatmap": [
           {
            "colorbar": {
             "outlinewidth": 0,
             "ticks": ""
            },
            "colorscale": [
             [
              0,
              "#0d0887"
             ],
             [
              0.1111111111111111,
              "#46039f"
             ],
             [
              0.2222222222222222,
              "#7201a8"
             ],
             [
              0.3333333333333333,
              "#9c179e"
             ],
             [
              0.4444444444444444,
              "#bd3786"
             ],
             [
              0.5555555555555556,
              "#d8576b"
             ],
             [
              0.6666666666666666,
              "#ed7953"
             ],
             [
              0.7777777777777778,
              "#fb9f3a"
             ],
             [
              0.8888888888888888,
              "#fdca26"
             ],
             [
              1,
              "#f0f921"
             ]
            ],
            "type": "heatmap"
           }
          ],
          "heatmapgl": [
           {
            "colorbar": {
             "outlinewidth": 0,
             "ticks": ""
            },
            "colorscale": [
             [
              0,
              "#0d0887"
             ],
             [
              0.1111111111111111,
              "#46039f"
             ],
             [
              0.2222222222222222,
              "#7201a8"
             ],
             [
              0.3333333333333333,
              "#9c179e"
             ],
             [
              0.4444444444444444,
              "#bd3786"
             ],
             [
              0.5555555555555556,
              "#d8576b"
             ],
             [
              0.6666666666666666,
              "#ed7953"
             ],
             [
              0.7777777777777778,
              "#fb9f3a"
             ],
             [
              0.8888888888888888,
              "#fdca26"
             ],
             [
              1,
              "#f0f921"
             ]
            ],
            "type": "heatmapgl"
           }
          ],
          "histogram": [
           {
            "marker": {
             "pattern": {
              "fillmode": "overlay",
              "size": 10,
              "solidity": 0.2
             }
            },
            "type": "histogram"
           }
          ],
          "histogram2d": [
           {
            "colorbar": {
             "outlinewidth": 0,
             "ticks": ""
            },
            "colorscale": [
             [
              0,
              "#0d0887"
             ],
             [
              0.1111111111111111,
              "#46039f"
             ],
             [
              0.2222222222222222,
              "#7201a8"
             ],
             [
              0.3333333333333333,
              "#9c179e"
             ],
             [
              0.4444444444444444,
              "#bd3786"
             ],
             [
              0.5555555555555556,
              "#d8576b"
             ],
             [
              0.6666666666666666,
              "#ed7953"
             ],
             [
              0.7777777777777778,
              "#fb9f3a"
             ],
             [
              0.8888888888888888,
              "#fdca26"
             ],
             [
              1,
              "#f0f921"
             ]
            ],
            "type": "histogram2d"
           }
          ],
          "histogram2dcontour": [
           {
            "colorbar": {
             "outlinewidth": 0,
             "ticks": ""
            },
            "colorscale": [
             [
              0,
              "#0d0887"
             ],
             [
              0.1111111111111111,
              "#46039f"
             ],
             [
              0.2222222222222222,
              "#7201a8"
             ],
             [
              0.3333333333333333,
              "#9c179e"
             ],
             [
              0.4444444444444444,
              "#bd3786"
             ],
             [
              0.5555555555555556,
              "#d8576b"
             ],
             [
              0.6666666666666666,
              "#ed7953"
             ],
             [
              0.7777777777777778,
              "#fb9f3a"
             ],
             [
              0.8888888888888888,
              "#fdca26"
             ],
             [
              1,
              "#f0f921"
             ]
            ],
            "type": "histogram2dcontour"
           }
          ],
          "mesh3d": [
           {
            "colorbar": {
             "outlinewidth": 0,
             "ticks": ""
            },
            "type": "mesh3d"
           }
          ],
          "parcoords": [
           {
            "line": {
             "colorbar": {
              "outlinewidth": 0,
              "ticks": ""
             }
            },
            "type": "parcoords"
           }
          ],
          "pie": [
           {
            "automargin": true,
            "type": "pie"
           }
          ],
          "scatter": [
           {
            "marker": {
             "line": {
              "color": "#283442"
             }
            },
            "type": "scatter"
           }
          ],
          "scatter3d": [
           {
            "line": {
             "colorbar": {
              "outlinewidth": 0,
              "ticks": ""
             }
            },
            "marker": {
             "colorbar": {
              "outlinewidth": 0,
              "ticks": ""
             }
            },
            "type": "scatter3d"
           }
          ],
          "scattercarpet": [
           {
            "marker": {
             "colorbar": {
              "outlinewidth": 0,
              "ticks": ""
             }
            },
            "type": "scattercarpet"
           }
          ],
          "scattergeo": [
           {
            "marker": {
             "colorbar": {
              "outlinewidth": 0,
              "ticks": ""
             }
            },
            "type": "scattergeo"
           }
          ],
          "scattergl": [
           {
            "marker": {
             "line": {
              "color": "#283442"
             }
            },
            "type": "scattergl"
           }
          ],
          "scattermapbox": [
           {
            "marker": {
             "colorbar": {
              "outlinewidth": 0,
              "ticks": ""
             }
            },
            "type": "scattermapbox"
           }
          ],
          "scatterpolar": [
           {
            "marker": {
             "colorbar": {
              "outlinewidth": 0,
              "ticks": ""
             }
            },
            "type": "scatterpolar"
           }
          ],
          "scatterpolargl": [
           {
            "marker": {
             "colorbar": {
              "outlinewidth": 0,
              "ticks": ""
             }
            },
            "type": "scatterpolargl"
           }
          ],
          "scatterternary": [
           {
            "marker": {
             "colorbar": {
              "outlinewidth": 0,
              "ticks": ""
             }
            },
            "type": "scatterternary"
           }
          ],
          "surface": [
           {
            "colorbar": {
             "outlinewidth": 0,
             "ticks": ""
            },
            "colorscale": [
             [
              0,
              "#0d0887"
             ],
             [
              0.1111111111111111,
              "#46039f"
             ],
             [
              0.2222222222222222,
              "#7201a8"
             ],
             [
              0.3333333333333333,
              "#9c179e"
             ],
             [
              0.4444444444444444,
              "#bd3786"
             ],
             [
              0.5555555555555556,
              "#d8576b"
             ],
             [
              0.6666666666666666,
              "#ed7953"
             ],
             [
              0.7777777777777778,
              "#fb9f3a"
             ],
             [
              0.8888888888888888,
              "#fdca26"
             ],
             [
              1,
              "#f0f921"
             ]
            ],
            "type": "surface"
           }
          ],
          "table": [
           {
            "cells": {
             "fill": {
              "color": "#506784"
             },
             "line": {
              "color": "rgb(17,17,17)"
             }
            },
            "header": {
             "fill": {
              "color": "#2a3f5f"
             },
             "line": {
              "color": "rgb(17,17,17)"
             }
            },
            "type": "table"
           }
          ]
         },
         "layout": {
          "annotationdefaults": {
           "arrowcolor": "#f2f5fa",
           "arrowhead": 0,
           "arrowwidth": 1
          },
          "autotypenumbers": "strict",
          "coloraxis": {
           "colorbar": {
            "outlinewidth": 0,
            "ticks": ""
           }
          },
          "colorscale": {
           "diverging": [
            [
             0,
             "#8e0152"
            ],
            [
             0.1,
             "#c51b7d"
            ],
            [
             0.2,
             "#de77ae"
            ],
            [
             0.3,
             "#f1b6da"
            ],
            [
             0.4,
             "#fde0ef"
            ],
            [
             0.5,
             "#f7f7f7"
            ],
            [
             0.6,
             "#e6f5d0"
            ],
            [
             0.7,
             "#b8e186"
            ],
            [
             0.8,
             "#7fbc41"
            ],
            [
             0.9,
             "#4d9221"
            ],
            [
             1,
             "#276419"
            ]
           ],
           "sequential": [
            [
             0,
             "#0d0887"
            ],
            [
             0.1111111111111111,
             "#46039f"
            ],
            [
             0.2222222222222222,
             "#7201a8"
            ],
            [
             0.3333333333333333,
             "#9c179e"
            ],
            [
             0.4444444444444444,
             "#bd3786"
            ],
            [
             0.5555555555555556,
             "#d8576b"
            ],
            [
             0.6666666666666666,
             "#ed7953"
            ],
            [
             0.7777777777777778,
             "#fb9f3a"
            ],
            [
             0.8888888888888888,
             "#fdca26"
            ],
            [
             1,
             "#f0f921"
            ]
           ],
           "sequentialminus": [
            [
             0,
             "#0d0887"
            ],
            [
             0.1111111111111111,
             "#46039f"
            ],
            [
             0.2222222222222222,
             "#7201a8"
            ],
            [
             0.3333333333333333,
             "#9c179e"
            ],
            [
             0.4444444444444444,
             "#bd3786"
            ],
            [
             0.5555555555555556,
             "#d8576b"
            ],
            [
             0.6666666666666666,
             "#ed7953"
            ],
            [
             0.7777777777777778,
             "#fb9f3a"
            ],
            [
             0.8888888888888888,
             "#fdca26"
            ],
            [
             1,
             "#f0f921"
            ]
           ]
          },
          "colorway": [
           "#636efa",
           "#EF553B",
           "#00cc96",
           "#ab63fa",
           "#FFA15A",
           "#19d3f3",
           "#FF6692",
           "#B6E880",
           "#FF97FF",
           "#FECB52"
          ],
          "font": {
           "color": "#f2f5fa"
          },
          "geo": {
           "bgcolor": "rgb(17,17,17)",
           "lakecolor": "rgb(17,17,17)",
           "landcolor": "rgb(17,17,17)",
           "showlakes": true,
           "showland": true,
           "subunitcolor": "#506784"
          },
          "hoverlabel": {
           "align": "left"
          },
          "hovermode": "closest",
          "mapbox": {
           "style": "dark"
          },
          "paper_bgcolor": "rgb(17,17,17)",
          "plot_bgcolor": "rgb(17,17,17)",
          "polar": {
           "angularaxis": {
            "gridcolor": "#506784",
            "linecolor": "#506784",
            "ticks": ""
           },
           "bgcolor": "rgb(17,17,17)",
           "radialaxis": {
            "gridcolor": "#506784",
            "linecolor": "#506784",
            "ticks": ""
           }
          },
          "scene": {
           "xaxis": {
            "backgroundcolor": "rgb(17,17,17)",
            "gridcolor": "#506784",
            "gridwidth": 2,
            "linecolor": "#506784",
            "showbackground": true,
            "ticks": "",
            "zerolinecolor": "#C8D4E3"
           },
           "yaxis": {
            "backgroundcolor": "rgb(17,17,17)",
            "gridcolor": "#506784",
            "gridwidth": 2,
            "linecolor": "#506784",
            "showbackground": true,
            "ticks": "",
            "zerolinecolor": "#C8D4E3"
           },
           "zaxis": {
            "backgroundcolor": "rgb(17,17,17)",
            "gridcolor": "#506784",
            "gridwidth": 2,
            "linecolor": "#506784",
            "showbackground": true,
            "ticks": "",
            "zerolinecolor": "#C8D4E3"
           }
          },
          "shapedefaults": {
           "line": {
            "color": "#f2f5fa"
           }
          },
          "sliderdefaults": {
           "bgcolor": "#C8D4E3",
           "bordercolor": "rgb(17,17,17)",
           "borderwidth": 1,
           "tickwidth": 0
          },
          "ternary": {
           "aaxis": {
            "gridcolor": "#506784",
            "linecolor": "#506784",
            "ticks": ""
           },
           "baxis": {
            "gridcolor": "#506784",
            "linecolor": "#506784",
            "ticks": ""
           },
           "bgcolor": "rgb(17,17,17)",
           "caxis": {
            "gridcolor": "#506784",
            "linecolor": "#506784",
            "ticks": ""
           }
          },
          "title": {
           "x": 0.05
          },
          "updatemenudefaults": {
           "bgcolor": "#506784",
           "borderwidth": 0
          },
          "xaxis": {
           "automargin": true,
           "gridcolor": "#283442",
           "linecolor": "#506784",
           "ticks": "",
           "title": {
            "standoff": 15
           },
           "zerolinecolor": "#283442",
           "zerolinewidth": 2
          },
          "yaxis": {
           "automargin": true,
           "gridcolor": "#283442",
           "linecolor": "#506784",
           "ticks": "",
           "title": {
            "standoff": 15
           },
           "zerolinecolor": "#283442",
           "zerolinewidth": 2
          }
         }
        },
        "title": {
         "font": {
          "family": "Arial",
          "size": 25
         },
         "text": "Standard Drinks & Risk-Levels by Alcohol Types and Weekly Drinks Quantity",
         "x": 0.5,
         "y": 0.95
        },
        "width": 1180,
        "xaxis": {
         "anchor": "y",
         "domain": [
          0,
          0.235
         ],
         "title": {
          "text": "Drink Quantity"
         }
        },
        "xaxis2": {
         "anchor": "y2",
         "domain": [
          0.255,
          0.49
         ],
         "matches": "x",
         "title": {
          "text": "Drink Quantity"
         }
        },
        "xaxis3": {
         "anchor": "y3",
         "domain": [
          0.51,
          0.745
         ],
         "matches": "x",
         "title": {
          "text": "Drink Quantity"
         }
        },
        "xaxis4": {
         "anchor": "y4",
         "domain": [
          0.7649999999999999,
          0.9999999999999999
         ],
         "matches": "x",
         "title": {
          "text": "Drink Quantity"
         }
        },
        "yaxis": {
         "anchor": "x",
         "domain": [
          0,
          1
         ],
         "title": {
          "text": "Number of Standard Drinkings"
         }
        },
        "yaxis2": {
         "anchor": "x2",
         "domain": [
          0,
          1
         ],
         "matches": "y",
         "showticklabels": false
        },
        "yaxis3": {
         "anchor": "x3",
         "domain": [
          0,
          1
         ],
         "matches": "y",
         "showticklabels": false
        },
        "yaxis4": {
         "anchor": "x4",
         "domain": [
          0,
          1
         ],
         "matches": "y",
         "showticklabels": false
        }
       }
      },
      "text/html": [
       "<div>                            <div id=\"0d506a15-bf38-4bc9-9987-85694480a328\" class=\"plotly-graph-div\" style=\"height:600px; width:1180px;\"></div>            <script type=\"text/javascript\">                require([\"plotly\"], function(Plotly) {                    window.PLOTLYENV=window.PLOTLYENV || {};                                    if (document.getElementById(\"0d506a15-bf38-4bc9-9987-85694480a328\")) {                    Plotly.newPlot(                        \"0d506a15-bf38-4bc9-9987-85694480a328\",                        [{\"hovertemplate\":\"Risk Level=Minimum<br>Drink Type=Full/Mid-strength Beer<br>Drink Quantity=%{marker.size}<br>Number of Standard Drinkings=%{y}<extra></extra>\",\"legendgroup\":\"Minimum\",\"marker\":{\"color\":\"lightgreen\",\"size\":[1,2,3,4],\"sizemode\":\"area\",\"sizeref\":0.125,\"symbol\":\"circle\"},\"mode\":\"markers\",\"name\":\"Minimum\",\"orientation\":\"v\",\"showlegend\":true,\"x\":[1,2,3,4],\"xaxis\":\"x\",\"y\":[1.1,2.2,3.3,4.4],\"yaxis\":\"y\",\"type\":\"scatter\"},{\"hovertemplate\":\"Risk Level=Minimum<br>Drink Type=Glass Wine<br>Drink Quantity=%{marker.size}<br>Number of Standard Drinkings=%{y}<extra></extra>\",\"legendgroup\":\"Minimum\",\"marker\":{\"color\":\"lightgreen\",\"size\":[1,2,3],\"sizemode\":\"area\",\"sizeref\":0.125,\"symbol\":\"circle\"},\"mode\":\"markers\",\"name\":\"Minimum\",\"orientation\":\"v\",\"showlegend\":false,\"x\":[1,2,3],\"xaxis\":\"x2\",\"y\":[1.5,3.0,4.5],\"yaxis\":\"y2\",\"type\":\"scatter\"},{\"hovertemplate\":\"Risk Level=Minimum<br>Drink Type=Low-strength Beer<br>Drink Quantity=%{marker.size}<br>Number of Standard Drinkings=%{y}<extra></extra>\",\"legendgroup\":\"Minimum\",\"marker\":{\"color\":\"lightgreen\",\"size\":[1,2,3,4,5,6,7,8],\"sizemode\":\"area\",\"sizeref\":0.125,\"symbol\":\"circle\"},\"mode\":\"markers\",\"name\":\"Minimum\",\"orientation\":\"v\",\"showlegend\":false,\"x\":[1,2,3,4,5,6,7,8],\"xaxis\":\"x4\",\"y\":[0.6,1.2,1.8,2.4,3.0,3.6,4.2,4.8],\"yaxis\":\"y4\",\"type\":\"scatter\"},{\"hovertemplate\":\"Risk Level=Low<br>Drink Type=Full/Mid-strength Beer<br>Drink Quantity=%{marker.size}<br>Number of Standard Drinkings=%{y}<extra></extra>\",\"legendgroup\":\"Low\",\"marker\":{\"color\":\"cyan\",\"size\":[5,6,7,8,9],\"sizemode\":\"area\",\"sizeref\":0.125,\"symbol\":\"circle\"},\"mode\":\"markers\",\"name\":\"Low\",\"orientation\":\"v\",\"showlegend\":true,\"x\":[5,6,7,8,9],\"xaxis\":\"x\",\"y\":[5.5,6.6,7.7,8.8,9.9],\"yaxis\":\"y\",\"type\":\"scatter\"},{\"hovertemplate\":\"Risk Level=Low<br>Drink Type=Glass Wine<br>Drink Quantity=%{marker.size}<br>Number of Standard Drinkings=%{y}<extra></extra>\",\"legendgroup\":\"Low\",\"marker\":{\"color\":\"cyan\",\"size\":[4,5,6],\"sizemode\":\"area\",\"sizeref\":0.125,\"symbol\":\"circle\"},\"mode\":\"markers\",\"name\":\"Low\",\"orientation\":\"v\",\"showlegend\":false,\"x\":[4,5,6],\"xaxis\":\"x2\",\"y\":[6.0,7.5,9.0],\"yaxis\":\"y2\",\"type\":\"scatter\"},{\"hovertemplate\":\"Risk Level=Low<br>Drink Type=Bottle Wine<br>Drink Quantity=%{marker.size}<br>Number of Standard Drinkings=%{y}<extra></extra>\",\"legendgroup\":\"Low\",\"marker\":{\"color\":\"cyan\",\"size\":[1],\"sizemode\":\"area\",\"sizeref\":0.125,\"symbol\":\"circle\"},\"mode\":\"markers\",\"name\":\"Low\",\"orientation\":\"v\",\"showlegend\":false,\"x\":[1],\"xaxis\":\"x3\",\"y\":[7.7],\"yaxis\":\"y3\",\"type\":\"scatter\"},{\"hovertemplate\":\"Risk Level=Low<br>Drink Type=Low-strength Beer<br>Drink Quantity=%{marker.size}<br>Number of Standard Drinkings=%{y}<extra></extra>\",\"legendgroup\":\"Low\",\"marker\":{\"color\":\"cyan\",\"size\":[9,10,11,12,13,14,15,16],\"sizemode\":\"area\",\"sizeref\":0.125,\"symbol\":\"circle\"},\"mode\":\"markers\",\"name\":\"Low\",\"orientation\":\"v\",\"showlegend\":false,\"x\":[9,10,11,12,13,14,15,16],\"xaxis\":\"x4\",\"y\":[5.4,6.0,6.6,7.2,7.8,8.4,9.0,9.6],\"yaxis\":\"y4\",\"type\":\"scatter\"},{\"hovertemplate\":\"Risk Level=Life-Time<br>Drink Type=Full/Mid-strength Beer<br>Drink Quantity=%{marker.size}<br>Number of Standard Drinkings=%{y}<extra></extra>\",\"legendgroup\":\"Life-Time\",\"marker\":{\"color\":\"yellow\",\"size\":[10,11,12,13,14,15,16,17,18],\"sizemode\":\"area\",\"sizeref\":0.125,\"symbol\":\"circle\"},\"mode\":\"markers\",\"name\":\"Life-Time\",\"orientation\":\"v\",\"showlegend\":true,\"x\":[10,11,12,13,14,15,16,17,18],\"xaxis\":\"x\",\"y\":[11.0,12.1,13.2,14.3,15.4,16.5,17.6,18.7,19.8],\"yaxis\":\"y\",\"type\":\"scatter\"},{\"hovertemplate\":\"Risk Level=Life-Time<br>Drink Type=Glass Wine<br>Drink Quantity=%{marker.size}<br>Number of Standard Drinkings=%{y}<extra></extra>\",\"legendgroup\":\"Life-Time\",\"marker\":{\"color\":\"yellow\",\"size\":[7,8,9,10,11,12,13],\"sizemode\":\"area\",\"sizeref\":0.125,\"symbol\":\"circle\"},\"mode\":\"markers\",\"name\":\"Life-Time\",\"orientation\":\"v\",\"showlegend\":false,\"x\":[7,8,9,10,11,12,13],\"xaxis\":\"x2\",\"y\":[10.5,12.0,13.5,15.0,16.5,18.0,19.5],\"yaxis\":\"y2\",\"type\":\"scatter\"},{\"hovertemplate\":\"Risk Level=Life-Time<br>Drink Type=Bottle Wine<br>Drink Quantity=%{marker.size}<br>Number of Standard Drinkings=%{y}<extra></extra>\",\"legendgroup\":\"Life-Time\",\"marker\":{\"color\":\"yellow\",\"size\":[2],\"sizemode\":\"area\",\"sizeref\":0.125,\"symbol\":\"circle\"},\"mode\":\"markers\",\"name\":\"Life-Time\",\"orientation\":\"v\",\"showlegend\":false,\"x\":[2],\"xaxis\":\"x3\",\"y\":[15.4],\"yaxis\":\"y3\",\"type\":\"scatter\"},{\"hovertemplate\":\"Risk Level=Life-Time<br>Drink Type=Low-strength Beer<br>Drink Quantity=%{marker.size}<br>Number of Standard Drinkings=%{y}<extra></extra>\",\"legendgroup\":\"Life-Time\",\"marker\":{\"color\":\"yellow\",\"size\":[17,18,19,20,21,22,23,24,25,26,27,28,29,30,31,32,33],\"sizemode\":\"area\",\"sizeref\":0.125,\"symbol\":\"circle\"},\"mode\":\"markers\",\"name\":\"Life-Time\",\"orientation\":\"v\",\"showlegend\":false,\"x\":[17,18,19,20,21,22,23,24,25,26,27,28,29,30,31,32,33],\"xaxis\":\"x4\",\"y\":[10.2,10.8,11.4,12.0,12.6,13.2,13.8,14.4,15.0,15.6,16.2,16.8,17.4,18.0,18.6,19.2,19.8],\"yaxis\":\"y4\",\"type\":\"scatter\"},{\"hovertemplate\":\"Risk Level=Severe Life-Time<br>Drink Type=Full/Mid-strength Beer<br>Drink Quantity=%{marker.size}<br>Number of Standard Drinkings=%{y}<extra></extra>\",\"legendgroup\":\"Severe Life-Time\",\"marker\":{\"color\":\"orange\",\"size\":[19,20,21,22,23,24],\"sizemode\":\"area\",\"sizeref\":0.125,\"symbol\":\"circle\"},\"mode\":\"markers\",\"name\":\"Severe Life-Time\",\"orientation\":\"v\",\"showlegend\":true,\"x\":[19,20,21,22,23,24],\"xaxis\":\"x\",\"y\":[20.9,22.0,23.1,24.2,25.3,26.4],\"yaxis\":\"y\",\"type\":\"scatter\"},{\"hovertemplate\":\"Risk Level=Severe Life-Time<br>Drink Type=Glass Wine<br>Drink Quantity=%{marker.size}<br>Number of Standard Drinkings=%{y}<extra></extra>\",\"legendgroup\":\"Severe Life-Time\",\"marker\":{\"color\":\"orange\",\"size\":[14,15,16,17,18],\"sizemode\":\"area\",\"sizeref\":0.125,\"symbol\":\"circle\"},\"mode\":\"markers\",\"name\":\"Severe Life-Time\",\"orientation\":\"v\",\"showlegend\":false,\"x\":[14,15,16,17,18],\"xaxis\":\"x2\",\"y\":[21.0,22.5,24.0,25.5,27.0],\"yaxis\":\"y2\",\"type\":\"scatter\"},{\"hovertemplate\":\"Risk Level=Severe Life-Time<br>Drink Type=Bottle Wine<br>Drink Quantity=%{marker.size}<br>Number of Standard Drinkings=%{y}<extra></extra>\",\"legendgroup\":\"Severe Life-Time\",\"marker\":{\"color\":\"orange\",\"size\":[3],\"sizemode\":\"area\",\"sizeref\":0.125,\"symbol\":\"circle\"},\"mode\":\"markers\",\"name\":\"Severe Life-Time\",\"orientation\":\"v\",\"showlegend\":false,\"x\":[3],\"xaxis\":\"x3\",\"y\":[23.1],\"yaxis\":\"y3\",\"type\":\"scatter\"},{\"hovertemplate\":\"Risk Level=Severe Life-Time<br>Drink Type=Low-strength Beer<br>Drink Quantity=%{marker.size}<br>Number of Standard Drinkings=%{y}<extra></extra>\",\"legendgroup\":\"Severe Life-Time\",\"marker\":{\"color\":\"orange\",\"size\":[34,35,36,37,38,39,40,41,42,43,44,45],\"sizemode\":\"area\",\"sizeref\":0.125,\"symbol\":\"circle\"},\"mode\":\"markers\",\"name\":\"Severe Life-Time\",\"orientation\":\"v\",\"showlegend\":false,\"x\":[34,35,36,37,38,39,40,41,42,43,44,45],\"xaxis\":\"x4\",\"y\":[20.4,21.0,21.6,22.2,22.8,23.4,24.0,24.6,25.2,25.8,26.4,27.0],\"yaxis\":\"y4\",\"type\":\"scatter\"},{\"hovertemplate\":\"Risk Level=Severe Life-Time & Single Occasion<br>Drink Type=Full/Mid-strength Beer<br>Drink Quantity=%{marker.size}<br>Number of Standard Drinkings=%{y}<extra></extra>\",\"legendgroup\":\"Severe Life-Time & Single Occasion\",\"marker\":{\"color\":\"red\",\"size\":[25,26,27,28,29,30,31,32,33,34,35,36,37,38,39,40,41,42,43,44,45,46,47,48,49,50],\"sizemode\":\"area\",\"sizeref\":0.125,\"symbol\":\"circle\"},\"mode\":\"markers\",\"name\":\"Severe Life-Time & Single Occasion\",\"orientation\":\"v\",\"showlegend\":true,\"x\":[25,26,27,28,29,30,31,32,33,34,35,36,37,38,39,40,41,42,43,44,45,46,47,48,49,50],\"xaxis\":\"x\",\"y\":[27.5,28.6,29.7,30.8,31.9,33.0,34.1,35.2,36.3,37.4,38.5,39.6,40.7,41.8,42.9,44.0,45.1,46.2,47.3,48.4,49.5,50.6,51.7,52.8,53.9,55.0],\"yaxis\":\"y\",\"type\":\"scatter\"},{\"hovertemplate\":\"Risk Level=Severe Life-Time & Single Occasion<br>Drink Type=Glass Wine<br>Drink Quantity=%{marker.size}<br>Number of Standard Drinkings=%{y}<extra></extra>\",\"legendgroup\":\"Severe Life-Time & Single Occasion\",\"marker\":{\"color\":\"red\",\"size\":[19,20,21,22,23,24,25,26,27,28,29,30,31,32,33,34,35,36,37,38,39,40,41,42,43,44,45,46,47,48,49,50],\"sizemode\":\"area\",\"sizeref\":0.125,\"symbol\":\"circle\"},\"mode\":\"markers\",\"name\":\"Severe Life-Time & Single Occasion\",\"orientation\":\"v\",\"showlegend\":false,\"x\":[19,20,21,22,23,24,25,26,27,28,29,30,31,32,33,34,35,36,37,38,39,40,41,42,43,44,45,46,47,48,49,50],\"xaxis\":\"x2\",\"y\":[28.5,30.0,31.5,33.0,34.5,36.0,37.5,39.0,40.5,42.0,43.5,45.0,46.5,48.0,49.5,51.0,52.5,54.0,55.5,57.0,58.5,60.0,61.5,63.0,64.5,66.0,67.5,69.0,70.5,72.0,73.5,75.0],\"yaxis\":\"y2\",\"type\":\"scatter\"},{\"hovertemplate\":\"Risk Level=Severe Life-Time & Single Occasion<br>Drink Type=Bottle Wine<br>Drink Quantity=%{marker.size}<br>Number of Standard Drinkings=%{y}<extra></extra>\",\"legendgroup\":\"Severe Life-Time & Single Occasion\",\"marker\":{\"color\":\"red\",\"size\":[4,5,6,7,8,9,10,11,12,13,14,15,16,17,18,19,20,21,22,23,24,25,26,27,28,29,30],\"sizemode\":\"area\",\"sizeref\":0.125,\"symbol\":\"circle\"},\"mode\":\"markers\",\"name\":\"Severe Life-Time & Single Occasion\",\"orientation\":\"v\",\"showlegend\":false,\"x\":[4,5,6,7,8,9,10,11,12,13,14,15,16,17,18,19,20,21,22,23,24,25,26,27,28,29,30],\"xaxis\":\"x3\",\"y\":[30.8,38.5,46.2,53.9,61.6,69.3,77.0,84.7,92.4,100.1,107.8,115.5,123.2,130.9,138.6,146.3,154.0,161.7,169.4,177.1,184.8,192.5,200.2,207.9,215.6,223.3,231.0],\"yaxis\":\"y3\",\"type\":\"scatter\"},{\"hovertemplate\":\"Risk Level=Severe Life-Time & Single Occasion<br>Drink Type=Low-strength Beer<br>Drink Quantity=%{marker.size}<br>Number of Standard Drinkings=%{y}<extra></extra>\",\"legendgroup\":\"Severe Life-Time & Single Occasion\",\"marker\":{\"color\":\"red\",\"size\":[46,47,48,49,50],\"sizemode\":\"area\",\"sizeref\":0.125,\"symbol\":\"circle\"},\"mode\":\"markers\",\"name\":\"Severe Life-Time & Single Occasion\",\"orientation\":\"v\",\"showlegend\":false,\"x\":[46,47,48,49,50],\"xaxis\":\"x4\",\"y\":[27.6,28.2,28.8,29.4,30.0],\"yaxis\":\"y4\",\"type\":\"scatter\"}],                        {\"template\":{\"data\":{\"barpolar\":[{\"marker\":{\"line\":{\"color\":\"rgb(17,17,17)\",\"width\":0.5},\"pattern\":{\"fillmode\":\"overlay\",\"size\":10,\"solidity\":0.2}},\"type\":\"barpolar\"}],\"bar\":[{\"error_x\":{\"color\":\"#f2f5fa\"},\"error_y\":{\"color\":\"#f2f5fa\"},\"marker\":{\"line\":{\"color\":\"rgb(17,17,17)\",\"width\":0.5},\"pattern\":{\"fillmode\":\"overlay\",\"size\":10,\"solidity\":0.2}},\"type\":\"bar\"}],\"carpet\":[{\"aaxis\":{\"endlinecolor\":\"#A2B1C6\",\"gridcolor\":\"#506784\",\"linecolor\":\"#506784\",\"minorgridcolor\":\"#506784\",\"startlinecolor\":\"#A2B1C6\"},\"baxis\":{\"endlinecolor\":\"#A2B1C6\",\"gridcolor\":\"#506784\",\"linecolor\":\"#506784\",\"minorgridcolor\":\"#506784\",\"startlinecolor\":\"#A2B1C6\"},\"type\":\"carpet\"}],\"choropleth\":[{\"colorbar\":{\"outlinewidth\":0,\"ticks\":\"\"},\"type\":\"choropleth\"}],\"contourcarpet\":[{\"colorbar\":{\"outlinewidth\":0,\"ticks\":\"\"},\"type\":\"contourcarpet\"}],\"contour\":[{\"colorbar\":{\"outlinewidth\":0,\"ticks\":\"\"},\"colorscale\":[[0.0,\"#0d0887\"],[0.1111111111111111,\"#46039f\"],[0.2222222222222222,\"#7201a8\"],[0.3333333333333333,\"#9c179e\"],[0.4444444444444444,\"#bd3786\"],[0.5555555555555556,\"#d8576b\"],[0.6666666666666666,\"#ed7953\"],[0.7777777777777778,\"#fb9f3a\"],[0.8888888888888888,\"#fdca26\"],[1.0,\"#f0f921\"]],\"type\":\"contour\"}],\"heatmapgl\":[{\"colorbar\":{\"outlinewidth\":0,\"ticks\":\"\"},\"colorscale\":[[0.0,\"#0d0887\"],[0.1111111111111111,\"#46039f\"],[0.2222222222222222,\"#7201a8\"],[0.3333333333333333,\"#9c179e\"],[0.4444444444444444,\"#bd3786\"],[0.5555555555555556,\"#d8576b\"],[0.6666666666666666,\"#ed7953\"],[0.7777777777777778,\"#fb9f3a\"],[0.8888888888888888,\"#fdca26\"],[1.0,\"#f0f921\"]],\"type\":\"heatmapgl\"}],\"heatmap\":[{\"colorbar\":{\"outlinewidth\":0,\"ticks\":\"\"},\"colorscale\":[[0.0,\"#0d0887\"],[0.1111111111111111,\"#46039f\"],[0.2222222222222222,\"#7201a8\"],[0.3333333333333333,\"#9c179e\"],[0.4444444444444444,\"#bd3786\"],[0.5555555555555556,\"#d8576b\"],[0.6666666666666666,\"#ed7953\"],[0.7777777777777778,\"#fb9f3a\"],[0.8888888888888888,\"#fdca26\"],[1.0,\"#f0f921\"]],\"type\":\"heatmap\"}],\"histogram2dcontour\":[{\"colorbar\":{\"outlinewidth\":0,\"ticks\":\"\"},\"colorscale\":[[0.0,\"#0d0887\"],[0.1111111111111111,\"#46039f\"],[0.2222222222222222,\"#7201a8\"],[0.3333333333333333,\"#9c179e\"],[0.4444444444444444,\"#bd3786\"],[0.5555555555555556,\"#d8576b\"],[0.6666666666666666,\"#ed7953\"],[0.7777777777777778,\"#fb9f3a\"],[0.8888888888888888,\"#fdca26\"],[1.0,\"#f0f921\"]],\"type\":\"histogram2dcontour\"}],\"histogram2d\":[{\"colorbar\":{\"outlinewidth\":0,\"ticks\":\"\"},\"colorscale\":[[0.0,\"#0d0887\"],[0.1111111111111111,\"#46039f\"],[0.2222222222222222,\"#7201a8\"],[0.3333333333333333,\"#9c179e\"],[0.4444444444444444,\"#bd3786\"],[0.5555555555555556,\"#d8576b\"],[0.6666666666666666,\"#ed7953\"],[0.7777777777777778,\"#fb9f3a\"],[0.8888888888888888,\"#fdca26\"],[1.0,\"#f0f921\"]],\"type\":\"histogram2d\"}],\"histogram\":[{\"marker\":{\"pattern\":{\"fillmode\":\"overlay\",\"size\":10,\"solidity\":0.2}},\"type\":\"histogram\"}],\"mesh3d\":[{\"colorbar\":{\"outlinewidth\":0,\"ticks\":\"\"},\"type\":\"mesh3d\"}],\"parcoords\":[{\"line\":{\"colorbar\":{\"outlinewidth\":0,\"ticks\":\"\"}},\"type\":\"parcoords\"}],\"pie\":[{\"automargin\":true,\"type\":\"pie\"}],\"scatter3d\":[{\"line\":{\"colorbar\":{\"outlinewidth\":0,\"ticks\":\"\"}},\"marker\":{\"colorbar\":{\"outlinewidth\":0,\"ticks\":\"\"}},\"type\":\"scatter3d\"}],\"scattercarpet\":[{\"marker\":{\"colorbar\":{\"outlinewidth\":0,\"ticks\":\"\"}},\"type\":\"scattercarpet\"}],\"scattergeo\":[{\"marker\":{\"colorbar\":{\"outlinewidth\":0,\"ticks\":\"\"}},\"type\":\"scattergeo\"}],\"scattergl\":[{\"marker\":{\"line\":{\"color\":\"#283442\"}},\"type\":\"scattergl\"}],\"scattermapbox\":[{\"marker\":{\"colorbar\":{\"outlinewidth\":0,\"ticks\":\"\"}},\"type\":\"scattermapbox\"}],\"scatterpolargl\":[{\"marker\":{\"colorbar\":{\"outlinewidth\":0,\"ticks\":\"\"}},\"type\":\"scatterpolargl\"}],\"scatterpolar\":[{\"marker\":{\"colorbar\":{\"outlinewidth\":0,\"ticks\":\"\"}},\"type\":\"scatterpolar\"}],\"scatter\":[{\"marker\":{\"line\":{\"color\":\"#283442\"}},\"type\":\"scatter\"}],\"scatterternary\":[{\"marker\":{\"colorbar\":{\"outlinewidth\":0,\"ticks\":\"\"}},\"type\":\"scatterternary\"}],\"surface\":[{\"colorbar\":{\"outlinewidth\":0,\"ticks\":\"\"},\"colorscale\":[[0.0,\"#0d0887\"],[0.1111111111111111,\"#46039f\"],[0.2222222222222222,\"#7201a8\"],[0.3333333333333333,\"#9c179e\"],[0.4444444444444444,\"#bd3786\"],[0.5555555555555556,\"#d8576b\"],[0.6666666666666666,\"#ed7953\"],[0.7777777777777778,\"#fb9f3a\"],[0.8888888888888888,\"#fdca26\"],[1.0,\"#f0f921\"]],\"type\":\"surface\"}],\"table\":[{\"cells\":{\"fill\":{\"color\":\"#506784\"},\"line\":{\"color\":\"rgb(17,17,17)\"}},\"header\":{\"fill\":{\"color\":\"#2a3f5f\"},\"line\":{\"color\":\"rgb(17,17,17)\"}},\"type\":\"table\"}]},\"layout\":{\"annotationdefaults\":{\"arrowcolor\":\"#f2f5fa\",\"arrowhead\":0,\"arrowwidth\":1},\"autotypenumbers\":\"strict\",\"coloraxis\":{\"colorbar\":{\"outlinewidth\":0,\"ticks\":\"\"}},\"colorscale\":{\"diverging\":[[0,\"#8e0152\"],[0.1,\"#c51b7d\"],[0.2,\"#de77ae\"],[0.3,\"#f1b6da\"],[0.4,\"#fde0ef\"],[0.5,\"#f7f7f7\"],[0.6,\"#e6f5d0\"],[0.7,\"#b8e186\"],[0.8,\"#7fbc41\"],[0.9,\"#4d9221\"],[1,\"#276419\"]],\"sequential\":[[0.0,\"#0d0887\"],[0.1111111111111111,\"#46039f\"],[0.2222222222222222,\"#7201a8\"],[0.3333333333333333,\"#9c179e\"],[0.4444444444444444,\"#bd3786\"],[0.5555555555555556,\"#d8576b\"],[0.6666666666666666,\"#ed7953\"],[0.7777777777777778,\"#fb9f3a\"],[0.8888888888888888,\"#fdca26\"],[1.0,\"#f0f921\"]],\"sequentialminus\":[[0.0,\"#0d0887\"],[0.1111111111111111,\"#46039f\"],[0.2222222222222222,\"#7201a8\"],[0.3333333333333333,\"#9c179e\"],[0.4444444444444444,\"#bd3786\"],[0.5555555555555556,\"#d8576b\"],[0.6666666666666666,\"#ed7953\"],[0.7777777777777778,\"#fb9f3a\"],[0.8888888888888888,\"#fdca26\"],[1.0,\"#f0f921\"]]},\"colorway\":[\"#636efa\",\"#EF553B\",\"#00cc96\",\"#ab63fa\",\"#FFA15A\",\"#19d3f3\",\"#FF6692\",\"#B6E880\",\"#FF97FF\",\"#FECB52\"],\"font\":{\"color\":\"#f2f5fa\"},\"geo\":{\"bgcolor\":\"rgb(17,17,17)\",\"lakecolor\":\"rgb(17,17,17)\",\"landcolor\":\"rgb(17,17,17)\",\"showlakes\":true,\"showland\":true,\"subunitcolor\":\"#506784\"},\"hoverlabel\":{\"align\":\"left\"},\"hovermode\":\"closest\",\"mapbox\":{\"style\":\"dark\"},\"paper_bgcolor\":\"rgb(17,17,17)\",\"plot_bgcolor\":\"rgb(17,17,17)\",\"polar\":{\"angularaxis\":{\"gridcolor\":\"#506784\",\"linecolor\":\"#506784\",\"ticks\":\"\"},\"bgcolor\":\"rgb(17,17,17)\",\"radialaxis\":{\"gridcolor\":\"#506784\",\"linecolor\":\"#506784\",\"ticks\":\"\"}},\"scene\":{\"xaxis\":{\"backgroundcolor\":\"rgb(17,17,17)\",\"gridcolor\":\"#506784\",\"gridwidth\":2,\"linecolor\":\"#506784\",\"showbackground\":true,\"ticks\":\"\",\"zerolinecolor\":\"#C8D4E3\"},\"yaxis\":{\"backgroundcolor\":\"rgb(17,17,17)\",\"gridcolor\":\"#506784\",\"gridwidth\":2,\"linecolor\":\"#506784\",\"showbackground\":true,\"ticks\":\"\",\"zerolinecolor\":\"#C8D4E3\"},\"zaxis\":{\"backgroundcolor\":\"rgb(17,17,17)\",\"gridcolor\":\"#506784\",\"gridwidth\":2,\"linecolor\":\"#506784\",\"showbackground\":true,\"ticks\":\"\",\"zerolinecolor\":\"#C8D4E3\"}},\"shapedefaults\":{\"line\":{\"color\":\"#f2f5fa\"}},\"sliderdefaults\":{\"bgcolor\":\"#C8D4E3\",\"bordercolor\":\"rgb(17,17,17)\",\"borderwidth\":1,\"tickwidth\":0},\"ternary\":{\"aaxis\":{\"gridcolor\":\"#506784\",\"linecolor\":\"#506784\",\"ticks\":\"\"},\"baxis\":{\"gridcolor\":\"#506784\",\"linecolor\":\"#506784\",\"ticks\":\"\"},\"bgcolor\":\"rgb(17,17,17)\",\"caxis\":{\"gridcolor\":\"#506784\",\"linecolor\":\"#506784\",\"ticks\":\"\"}},\"title\":{\"x\":0.05},\"updatemenudefaults\":{\"bgcolor\":\"#506784\",\"borderwidth\":0},\"xaxis\":{\"automargin\":true,\"gridcolor\":\"#283442\",\"linecolor\":\"#506784\",\"ticks\":\"\",\"title\":{\"standoff\":15},\"zerolinecolor\":\"#283442\",\"zerolinewidth\":2},\"yaxis\":{\"automargin\":true,\"gridcolor\":\"#283442\",\"linecolor\":\"#506784\",\"ticks\":\"\",\"title\":{\"standoff\":15},\"zerolinecolor\":\"#283442\",\"zerolinewidth\":2}}},\"xaxis\":{\"anchor\":\"y\",\"domain\":[0.0,0.235],\"title\":{\"text\":\"Drink Quantity\"}},\"yaxis\":{\"anchor\":\"x\",\"domain\":[0.0,1.0],\"title\":{\"text\":\"Number of Standard Drinkings\"}},\"xaxis2\":{\"anchor\":\"y2\",\"domain\":[0.255,0.49],\"matches\":\"x\",\"title\":{\"text\":\"Drink Quantity\"}},\"yaxis2\":{\"anchor\":\"x2\",\"domain\":[0.0,1.0],\"matches\":\"y\",\"showticklabels\":false},\"xaxis3\":{\"anchor\":\"y3\",\"domain\":[0.51,0.745],\"matches\":\"x\",\"title\":{\"text\":\"Drink Quantity\"}},\"yaxis3\":{\"anchor\":\"x3\",\"domain\":[0.0,1.0],\"matches\":\"y\",\"showticklabels\":false},\"xaxis4\":{\"anchor\":\"y4\",\"domain\":[0.7649999999999999,0.9999999999999999],\"matches\":\"x\",\"title\":{\"text\":\"Drink Quantity\"}},\"yaxis4\":{\"anchor\":\"x4\",\"domain\":[0.0,1.0],\"matches\":\"y\",\"showticklabels\":false},\"annotations\":[{\"showarrow\":false,\"text\":\"Full/Mid-strength Beer\",\"x\":0.1175,\"xanchor\":\"center\",\"xref\":\"paper\",\"y\":1.0,\"yanchor\":\"bottom\",\"yref\":\"paper\"},{\"showarrow\":false,\"text\":\"Glass Wine\",\"x\":0.3725,\"xanchor\":\"center\",\"xref\":\"paper\",\"y\":1.0,\"yanchor\":\"bottom\",\"yref\":\"paper\"},{\"showarrow\":false,\"text\":\"Bottle Wine\",\"x\":0.6275,\"xanchor\":\"center\",\"xref\":\"paper\",\"y\":1.0,\"yanchor\":\"bottom\",\"yref\":\"paper\"},{\"showarrow\":false,\"text\":\"Low-strength Beer\",\"x\":0.8824999999999998,\"xanchor\":\"center\",\"xref\":\"paper\",\"y\":1.0,\"yanchor\":\"bottom\",\"yref\":\"paper\"},{\"font\":{\"color\":\"white\",\"size\":10},\"showarrow\":false,\"text\":\"Safe dinking <= 10 standard drinks\",\"x\":1,\"xanchor\":\"right\",\"xref\":\"x domain\",\"y\":10,\"yanchor\":\"top\",\"yref\":\"y\"},{\"font\":{\"color\":\"white\",\"size\":10},\"showarrow\":false,\"text\":\"Safe dinking <= 10 standard drinks\",\"x\":1,\"xanchor\":\"right\",\"xref\":\"x2 domain\",\"y\":10,\"yanchor\":\"top\",\"yref\":\"y2\"},{\"font\":{\"color\":\"white\",\"size\":10},\"showarrow\":false,\"text\":\"Safe dinking <= 10 standard drinks\",\"x\":1,\"xanchor\":\"right\",\"xref\":\"x3 domain\",\"y\":10,\"yanchor\":\"top\",\"yref\":\"y3\"},{\"font\":{\"color\":\"white\",\"size\":10},\"showarrow\":false,\"text\":\"Safe dinking <= 10 standard drinks\",\"x\":1,\"xanchor\":\"right\",\"xref\":\"x4 domain\",\"y\":10,\"yanchor\":\"top\",\"yref\":\"y4\"}],\"legend\":{\"title\":{\"text\":\"Risk Level\"},\"tracegroupgap\":0,\"itemsizing\":\"constant\",\"orientation\":\"h\",\"yanchor\":\"bottom\",\"y\":-0.3,\"xanchor\":\"right\",\"x\":0.8},\"title\":{\"text\":\"Standard Drinks & Risk-Levels by Alcohol Types and Weekly Drinks Quantity\",\"font\":{\"family\":\"Arial\",\"size\":25},\"x\":0.5,\"y\":0.95},\"font\":{\"size\":11,\"family\":\"Verdana\"},\"hovermode\":\"closest\",\"width\":1180,\"height\":600,\"shapes\":[{\"line\":{\"dash\":\"dot\"},\"type\":\"line\",\"x0\":0,\"x1\":1,\"xref\":\"x domain\",\"y0\":10,\"y1\":10,\"yref\":\"y\"},{\"line\":{\"dash\":\"dot\"},\"type\":\"line\",\"x0\":0,\"x1\":1,\"xref\":\"x2 domain\",\"y0\":10,\"y1\":10,\"yref\":\"y2\"},{\"line\":{\"dash\":\"dot\"},\"type\":\"line\",\"x0\":0,\"x1\":1,\"xref\":\"x3 domain\",\"y0\":10,\"y1\":10,\"yref\":\"y3\"},{\"line\":{\"dash\":\"dot\"},\"type\":\"line\",\"x0\":0,\"x1\":1,\"xref\":\"x4 domain\",\"y0\":10,\"y1\":10,\"yref\":\"y4\"}]},                        {\"displayModeBar\": false, \"showTips\": false, \"responsive\": true}                    ).then(function(){\n",
       "                            \n",
       "var gd = document.getElementById('0d506a15-bf38-4bc9-9987-85694480a328');\n",
       "var x = new MutationObserver(function (mutations, observer) {{\n",
       "        var display = window.getComputedStyle(gd).display;\n",
       "        if (!display || display === 'none') {{\n",
       "            console.log([gd, 'removed!']);\n",
       "            Plotly.purge(gd);\n",
       "            observer.disconnect();\n",
       "        }}\n",
       "}});\n",
       "\n",
       "// Listen for the removal of the full notebook cells\n",
       "var notebookContainer = gd.closest('#notebook-container');\n",
       "if (notebookContainer) {{\n",
       "    x.observe(notebookContainer, {childList: true});\n",
       "}}\n",
       "\n",
       "// Listen for the clearing of the current output cell\n",
       "var outputEl = gd.closest('.output');\n",
       "if (outputEl) {{\n",
       "    x.observe(outputEl, {childList: true});\n",
       "}}\n",
       "\n",
       "                        })                };                });            </script>        </div>"
      ]
     },
     "metadata": {},
     "output_type": "display_data"
    }
   ],
   "source": [
    " \n",
    "    fig1 = px.scatter(df, x=\"Drink Quantity\", y=\"Number of Standard Drinkings\",\n",
    "                  color=\"Risk Level\", size = \"Drink Quantity\", #symbol= \"Number of Standard Drinkings\",\n",
    "                 facet_col=\"Drink Type\", \n",
    "                title = \"Standard Drinks & Risk-Levels by Alcohol Types and Weekly Drinks Quantity\",\n",
    "                color_discrete_map={'Low': 'cyan','Minimum': 'lightgreen',\n",
    "                                    'Life-Time' : 'yellow','Severe Life-Time':'orange',\n",
    "                                    'Severe Life-Time & Single Occasion': 'red'}\n",
    "                     ) # size = \"Number of Standard Drinkings\",\n",
    "    \n",
    "    fig1.update_layout(legend=dict(\n",
    "     orientation=\"h\",yanchor=\"bottom\", y=-0.3,\n",
    "     xanchor=\"right\",x= 0.8 ))\n",
    "\n",
    "    fig1.update_layout(template = 'plotly_dark', title = dict(x = 0.5, y = 0.95),\n",
    "               title_font= dict(family = 'Arial', size = 25),\n",
    "                  font = dict(size = 11, family = 'Verdana'),\n",
    "               hovermode = 'closest',\n",
    "               width  = 1180, height = 600)\n",
    "    fig1.for_each_annotation(lambda a: a.update(text=a.text.split(\"=\")[1]))\n",
    "    fig1.add_hline(y=10, line_dash=\"dot\",\n",
    "              annotation_text=\"Safe dinking <= 10 standard drinks\", \n",
    "              annotation_position=\"bottom right\",\n",
    "              annotation_font_size=10,\n",
    "              annotation_font_color=\"white\"\n",
    "             )\n",
    "    fig1.show(config={\"displayModeBar\": False, \"showTips\": False})\n",
    "\n"
   ]
  },
  {
   "cell_type": "code",
   "execution_count": 104,
   "id": "fc7b6902",
   "metadata": {},
   "outputs": [
    {
     "data": {
      "text/plain": [
       "\"\\nlabels={'Full/Mid-strength Beer': 'Full/Mid-strength Beer - Cans',\\n                                                                  'Glass Wine': 'Glass Wine - Glasses',\\n                                                                  'Bottle Wine' : 'Bottle Wine - Bottles' ,\\n                                                                  'Low-strength Beer':'Low-strength Beer -Bottles'}\\n                                                                  \\ncolor_discrete_map={'Full/Mid-strength Beer': 'cyan',\\n                                                                  'Glass Wine': 'green',\\n                                                                  'Bottle Wine' : 'Red' ,\\n                                                                  'Low-strength Beer':'blue'},\\n                       title_font= dict(family = 'Arial', size = 25),\\n\""
      ]
     },
     "execution_count": 104,
     "metadata": {},
     "output_type": "execute_result"
    }
   ],
   "source": [
    "'''\n",
    "labels={'Full/Mid-strength Beer': 'Full/Mid-strength Beer - Cans',\n",
    "                                                                  'Glass Wine': 'Glass Wine - Glasses',\n",
    "                                                                  'Bottle Wine' : 'Bottle Wine - Bottles' ,\n",
    "                                                                  'Low-strength Beer':'Low-strength Beer -Bottles'}\n",
    "                                                                  \n",
    "color_discrete_map={'Full/Mid-strength Beer': 'cyan',\n",
    "                                                                  'Glass Wine': 'green',\n",
    "                                                                  'Bottle Wine' : 'Red' ,\n",
    "                                                                  'Low-strength Beer':'blue'},\n",
    "                       title_font= dict(family = 'Arial', size = 25),\n",
    "'''"
   ]
  },
  {
   "cell_type": "code",
   "execution_count": 133,
   "id": "794d7f93",
   "metadata": {},
   "outputs": [
    {
     "data": {
      "application/vnd.plotly.v1+json": {
       "config": {
        "displayModeBar": false,
        "plotlyServerURL": "https://plotly.com",
        "showTips": false
       },
       "data": [
        {
         "alignmentgroup": "True",
         "hovertemplate": "Drink Type=%{x}<br>Number of Standard Drinkings=%{y}<extra></extra>",
         "legendgroup": "Full/Mid-strength Beer",
         "marker": {
          "color": "cyan",
          "opacity": 0.95,
          "pattern": {
           "shape": ""
          }
         },
         "name": "Full/Mid-strength Beer",
         "offsetgroup": "Full/Mid-strength Beer",
         "orientation": "v",
         "showlegend": true,
         "textposition": "auto",
         "type": "bar",
         "x": [
          "Full/Mid-strength Beer"
         ],
         "xaxis": "x",
         "y": [
          1.1
         ],
         "yaxis": "y"
        },
        {
         "alignmentgroup": "True",
         "hovertemplate": "Drink Type=%{x}<br>Number of Standard Drinkings=%{y}<extra></extra>",
         "legendgroup": "Glass Wine",
         "marker": {
          "color": "lightgreen",
          "opacity": 0.95,
          "pattern": {
           "shape": ""
          }
         },
         "name": "Glass Wine",
         "offsetgroup": "Glass Wine",
         "orientation": "v",
         "showlegend": true,
         "textposition": "auto",
         "type": "bar",
         "x": [
          "Glass Wine"
         ],
         "xaxis": "x",
         "y": [
          1.5
         ],
         "yaxis": "y"
        },
        {
         "alignmentgroup": "True",
         "hovertemplate": "Drink Type=%{x}<br>Number of Standard Drinkings=%{y}<extra></extra>",
         "legendgroup": "Bottle Wine",
         "marker": {
          "color": "orange",
          "opacity": 0.95,
          "pattern": {
           "shape": ""
          }
         },
         "name": "Bottle Wine",
         "offsetgroup": "Bottle Wine",
         "orientation": "v",
         "showlegend": true,
         "textposition": "auto",
         "type": "bar",
         "x": [
          "Bottle Wine"
         ],
         "xaxis": "x",
         "y": [
          7.7
         ],
         "yaxis": "y"
        },
        {
         "alignmentgroup": "True",
         "hovertemplate": "Drink Type=%{x}<br>Number of Standard Drinkings=%{y}<extra></extra>",
         "legendgroup": "Low-strength Beer",
         "marker": {
          "color": "yellow",
          "opacity": 0.95,
          "pattern": {
           "shape": ""
          }
         },
         "name": "Low-strength Beer",
         "offsetgroup": "Low-strength Beer",
         "orientation": "v",
         "showlegend": true,
         "textposition": "auto",
         "type": "bar",
         "x": [
          "Low-strength Beer"
         ],
         "xaxis": "x",
         "y": [
          0.6
         ],
         "yaxis": "y"
        }
       ],
       "layout": {
        "bargap": 0.05,
        "barmode": "relative",
        "font": {
         "family": "Verdana",
         "size": 10
        },
        "height": 600,
        "hovermode": "closest",
        "legend": {
         "title": {
          "text": "Drink Type"
         },
         "tracegroupgap": 0
        },
        "margin": {
         "t": 60
        },
        "showlegend": false,
        "template": {
         "data": {
          "bar": [
           {
            "error_x": {
             "color": "#f2f5fa"
            },
            "error_y": {
             "color": "#f2f5fa"
            },
            "marker": {
             "line": {
              "color": "rgb(17,17,17)",
              "width": 0.5
             },
             "pattern": {
              "fillmode": "overlay",
              "size": 10,
              "solidity": 0.2
             }
            },
            "type": "bar"
           }
          ],
          "barpolar": [
           {
            "marker": {
             "line": {
              "color": "rgb(17,17,17)",
              "width": 0.5
             },
             "pattern": {
              "fillmode": "overlay",
              "size": 10,
              "solidity": 0.2
             }
            },
            "type": "barpolar"
           }
          ],
          "carpet": [
           {
            "aaxis": {
             "endlinecolor": "#A2B1C6",
             "gridcolor": "#506784",
             "linecolor": "#506784",
             "minorgridcolor": "#506784",
             "startlinecolor": "#A2B1C6"
            },
            "baxis": {
             "endlinecolor": "#A2B1C6",
             "gridcolor": "#506784",
             "linecolor": "#506784",
             "minorgridcolor": "#506784",
             "startlinecolor": "#A2B1C6"
            },
            "type": "carpet"
           }
          ],
          "choropleth": [
           {
            "colorbar": {
             "outlinewidth": 0,
             "ticks": ""
            },
            "type": "choropleth"
           }
          ],
          "contour": [
           {
            "colorbar": {
             "outlinewidth": 0,
             "ticks": ""
            },
            "colorscale": [
             [
              0,
              "#0d0887"
             ],
             [
              0.1111111111111111,
              "#46039f"
             ],
             [
              0.2222222222222222,
              "#7201a8"
             ],
             [
              0.3333333333333333,
              "#9c179e"
             ],
             [
              0.4444444444444444,
              "#bd3786"
             ],
             [
              0.5555555555555556,
              "#d8576b"
             ],
             [
              0.6666666666666666,
              "#ed7953"
             ],
             [
              0.7777777777777778,
              "#fb9f3a"
             ],
             [
              0.8888888888888888,
              "#fdca26"
             ],
             [
              1,
              "#f0f921"
             ]
            ],
            "type": "contour"
           }
          ],
          "contourcarpet": [
           {
            "colorbar": {
             "outlinewidth": 0,
             "ticks": ""
            },
            "type": "contourcarpet"
           }
          ],
          "heatmap": [
           {
            "colorbar": {
             "outlinewidth": 0,
             "ticks": ""
            },
            "colorscale": [
             [
              0,
              "#0d0887"
             ],
             [
              0.1111111111111111,
              "#46039f"
             ],
             [
              0.2222222222222222,
              "#7201a8"
             ],
             [
              0.3333333333333333,
              "#9c179e"
             ],
             [
              0.4444444444444444,
              "#bd3786"
             ],
             [
              0.5555555555555556,
              "#d8576b"
             ],
             [
              0.6666666666666666,
              "#ed7953"
             ],
             [
              0.7777777777777778,
              "#fb9f3a"
             ],
             [
              0.8888888888888888,
              "#fdca26"
             ],
             [
              1,
              "#f0f921"
             ]
            ],
            "type": "heatmap"
           }
          ],
          "heatmapgl": [
           {
            "colorbar": {
             "outlinewidth": 0,
             "ticks": ""
            },
            "colorscale": [
             [
              0,
              "#0d0887"
             ],
             [
              0.1111111111111111,
              "#46039f"
             ],
             [
              0.2222222222222222,
              "#7201a8"
             ],
             [
              0.3333333333333333,
              "#9c179e"
             ],
             [
              0.4444444444444444,
              "#bd3786"
             ],
             [
              0.5555555555555556,
              "#d8576b"
             ],
             [
              0.6666666666666666,
              "#ed7953"
             ],
             [
              0.7777777777777778,
              "#fb9f3a"
             ],
             [
              0.8888888888888888,
              "#fdca26"
             ],
             [
              1,
              "#f0f921"
             ]
            ],
            "type": "heatmapgl"
           }
          ],
          "histogram": [
           {
            "marker": {
             "pattern": {
              "fillmode": "overlay",
              "size": 10,
              "solidity": 0.2
             }
            },
            "type": "histogram"
           }
          ],
          "histogram2d": [
           {
            "colorbar": {
             "outlinewidth": 0,
             "ticks": ""
            },
            "colorscale": [
             [
              0,
              "#0d0887"
             ],
             [
              0.1111111111111111,
              "#46039f"
             ],
             [
              0.2222222222222222,
              "#7201a8"
             ],
             [
              0.3333333333333333,
              "#9c179e"
             ],
             [
              0.4444444444444444,
              "#bd3786"
             ],
             [
              0.5555555555555556,
              "#d8576b"
             ],
             [
              0.6666666666666666,
              "#ed7953"
             ],
             [
              0.7777777777777778,
              "#fb9f3a"
             ],
             [
              0.8888888888888888,
              "#fdca26"
             ],
             [
              1,
              "#f0f921"
             ]
            ],
            "type": "histogram2d"
           }
          ],
          "histogram2dcontour": [
           {
            "colorbar": {
             "outlinewidth": 0,
             "ticks": ""
            },
            "colorscale": [
             [
              0,
              "#0d0887"
             ],
             [
              0.1111111111111111,
              "#46039f"
             ],
             [
              0.2222222222222222,
              "#7201a8"
             ],
             [
              0.3333333333333333,
              "#9c179e"
             ],
             [
              0.4444444444444444,
              "#bd3786"
             ],
             [
              0.5555555555555556,
              "#d8576b"
             ],
             [
              0.6666666666666666,
              "#ed7953"
             ],
             [
              0.7777777777777778,
              "#fb9f3a"
             ],
             [
              0.8888888888888888,
              "#fdca26"
             ],
             [
              1,
              "#f0f921"
             ]
            ],
            "type": "histogram2dcontour"
           }
          ],
          "mesh3d": [
           {
            "colorbar": {
             "outlinewidth": 0,
             "ticks": ""
            },
            "type": "mesh3d"
           }
          ],
          "parcoords": [
           {
            "line": {
             "colorbar": {
              "outlinewidth": 0,
              "ticks": ""
             }
            },
            "type": "parcoords"
           }
          ],
          "pie": [
           {
            "automargin": true,
            "type": "pie"
           }
          ],
          "scatter": [
           {
            "marker": {
             "line": {
              "color": "#283442"
             }
            },
            "type": "scatter"
           }
          ],
          "scatter3d": [
           {
            "line": {
             "colorbar": {
              "outlinewidth": 0,
              "ticks": ""
             }
            },
            "marker": {
             "colorbar": {
              "outlinewidth": 0,
              "ticks": ""
             }
            },
            "type": "scatter3d"
           }
          ],
          "scattercarpet": [
           {
            "marker": {
             "colorbar": {
              "outlinewidth": 0,
              "ticks": ""
             }
            },
            "type": "scattercarpet"
           }
          ],
          "scattergeo": [
           {
            "marker": {
             "colorbar": {
              "outlinewidth": 0,
              "ticks": ""
             }
            },
            "type": "scattergeo"
           }
          ],
          "scattergl": [
           {
            "marker": {
             "line": {
              "color": "#283442"
             }
            },
            "type": "scattergl"
           }
          ],
          "scattermapbox": [
           {
            "marker": {
             "colorbar": {
              "outlinewidth": 0,
              "ticks": ""
             }
            },
            "type": "scattermapbox"
           }
          ],
          "scatterpolar": [
           {
            "marker": {
             "colorbar": {
              "outlinewidth": 0,
              "ticks": ""
             }
            },
            "type": "scatterpolar"
           }
          ],
          "scatterpolargl": [
           {
            "marker": {
             "colorbar": {
              "outlinewidth": 0,
              "ticks": ""
             }
            },
            "type": "scatterpolargl"
           }
          ],
          "scatterternary": [
           {
            "marker": {
             "colorbar": {
              "outlinewidth": 0,
              "ticks": ""
             }
            },
            "type": "scatterternary"
           }
          ],
          "surface": [
           {
            "colorbar": {
             "outlinewidth": 0,
             "ticks": ""
            },
            "colorscale": [
             [
              0,
              "#0d0887"
             ],
             [
              0.1111111111111111,
              "#46039f"
             ],
             [
              0.2222222222222222,
              "#7201a8"
             ],
             [
              0.3333333333333333,
              "#9c179e"
             ],
             [
              0.4444444444444444,
              "#bd3786"
             ],
             [
              0.5555555555555556,
              "#d8576b"
             ],
             [
              0.6666666666666666,
              "#ed7953"
             ],
             [
              0.7777777777777778,
              "#fb9f3a"
             ],
             [
              0.8888888888888888,
              "#fdca26"
             ],
             [
              1,
              "#f0f921"
             ]
            ],
            "type": "surface"
           }
          ],
          "table": [
           {
            "cells": {
             "fill": {
              "color": "#506784"
             },
             "line": {
              "color": "rgb(17,17,17)"
             }
            },
            "header": {
             "fill": {
              "color": "#2a3f5f"
             },
             "line": {
              "color": "rgb(17,17,17)"
             }
            },
            "type": "table"
           }
          ]
         },
         "layout": {
          "annotationdefaults": {
           "arrowcolor": "#f2f5fa",
           "arrowhead": 0,
           "arrowwidth": 1
          },
          "autotypenumbers": "strict",
          "coloraxis": {
           "colorbar": {
            "outlinewidth": 0,
            "ticks": ""
           }
          },
          "colorscale": {
           "diverging": [
            [
             0,
             "#8e0152"
            ],
            [
             0.1,
             "#c51b7d"
            ],
            [
             0.2,
             "#de77ae"
            ],
            [
             0.3,
             "#f1b6da"
            ],
            [
             0.4,
             "#fde0ef"
            ],
            [
             0.5,
             "#f7f7f7"
            ],
            [
             0.6,
             "#e6f5d0"
            ],
            [
             0.7,
             "#b8e186"
            ],
            [
             0.8,
             "#7fbc41"
            ],
            [
             0.9,
             "#4d9221"
            ],
            [
             1,
             "#276419"
            ]
           ],
           "sequential": [
            [
             0,
             "#0d0887"
            ],
            [
             0.1111111111111111,
             "#46039f"
            ],
            [
             0.2222222222222222,
             "#7201a8"
            ],
            [
             0.3333333333333333,
             "#9c179e"
            ],
            [
             0.4444444444444444,
             "#bd3786"
            ],
            [
             0.5555555555555556,
             "#d8576b"
            ],
            [
             0.6666666666666666,
             "#ed7953"
            ],
            [
             0.7777777777777778,
             "#fb9f3a"
            ],
            [
             0.8888888888888888,
             "#fdca26"
            ],
            [
             1,
             "#f0f921"
            ]
           ],
           "sequentialminus": [
            [
             0,
             "#0d0887"
            ],
            [
             0.1111111111111111,
             "#46039f"
            ],
            [
             0.2222222222222222,
             "#7201a8"
            ],
            [
             0.3333333333333333,
             "#9c179e"
            ],
            [
             0.4444444444444444,
             "#bd3786"
            ],
            [
             0.5555555555555556,
             "#d8576b"
            ],
            [
             0.6666666666666666,
             "#ed7953"
            ],
            [
             0.7777777777777778,
             "#fb9f3a"
            ],
            [
             0.8888888888888888,
             "#fdca26"
            ],
            [
             1,
             "#f0f921"
            ]
           ]
          },
          "colorway": [
           "#636efa",
           "#EF553B",
           "#00cc96",
           "#ab63fa",
           "#FFA15A",
           "#19d3f3",
           "#FF6692",
           "#B6E880",
           "#FF97FF",
           "#FECB52"
          ],
          "font": {
           "color": "#f2f5fa"
          },
          "geo": {
           "bgcolor": "rgb(17,17,17)",
           "lakecolor": "rgb(17,17,17)",
           "landcolor": "rgb(17,17,17)",
           "showlakes": true,
           "showland": true,
           "subunitcolor": "#506784"
          },
          "hoverlabel": {
           "align": "left"
          },
          "hovermode": "closest",
          "mapbox": {
           "style": "dark"
          },
          "paper_bgcolor": "rgb(17,17,17)",
          "plot_bgcolor": "rgb(17,17,17)",
          "polar": {
           "angularaxis": {
            "gridcolor": "#506784",
            "linecolor": "#506784",
            "ticks": ""
           },
           "bgcolor": "rgb(17,17,17)",
           "radialaxis": {
            "gridcolor": "#506784",
            "linecolor": "#506784",
            "ticks": ""
           }
          },
          "scene": {
           "xaxis": {
            "backgroundcolor": "rgb(17,17,17)",
            "gridcolor": "#506784",
            "gridwidth": 2,
            "linecolor": "#506784",
            "showbackground": true,
            "ticks": "",
            "zerolinecolor": "#C8D4E3"
           },
           "yaxis": {
            "backgroundcolor": "rgb(17,17,17)",
            "gridcolor": "#506784",
            "gridwidth": 2,
            "linecolor": "#506784",
            "showbackground": true,
            "ticks": "",
            "zerolinecolor": "#C8D4E3"
           },
           "zaxis": {
            "backgroundcolor": "rgb(17,17,17)",
            "gridcolor": "#506784",
            "gridwidth": 2,
            "linecolor": "#506784",
            "showbackground": true,
            "ticks": "",
            "zerolinecolor": "#C8D4E3"
           }
          },
          "shapedefaults": {
           "line": {
            "color": "#f2f5fa"
           }
          },
          "sliderdefaults": {
           "bgcolor": "#C8D4E3",
           "bordercolor": "rgb(17,17,17)",
           "borderwidth": 1,
           "tickwidth": 0
          },
          "ternary": {
           "aaxis": {
            "gridcolor": "#506784",
            "linecolor": "#506784",
            "ticks": ""
           },
           "baxis": {
            "gridcolor": "#506784",
            "linecolor": "#506784",
            "ticks": ""
           },
           "bgcolor": "rgb(17,17,17)",
           "caxis": {
            "gridcolor": "#506784",
            "linecolor": "#506784",
            "ticks": ""
           }
          },
          "title": {
           "x": 0.05
          },
          "updatemenudefaults": {
           "bgcolor": "#506784",
           "borderwidth": 0
          },
          "xaxis": {
           "automargin": true,
           "gridcolor": "#283442",
           "linecolor": "#506784",
           "ticks": "",
           "title": {
            "standoff": 15
           },
           "zerolinecolor": "#283442",
           "zerolinewidth": 2
          },
          "yaxis": {
           "automargin": true,
           "gridcolor": "#283442",
           "linecolor": "#506784",
           "ticks": "",
           "title": {
            "standoff": 15
           },
           "zerolinecolor": "#283442",
           "zerolinewidth": 2
          }
         }
        },
        "title": {
         "font": {
          "family": "Arial",
          "size": 25
         },
         "text": "Standard Drink Number for Each Drink",
         "x": 0.5,
         "y": 0.95
        },
        "width": 500,
        "xaxis": {
         "anchor": "y",
         "categoryarray": [
          "Full/Mid-strength Beer",
          "Glass Wine",
          "Bottle Wine",
          "Low-strength Beer"
         ],
         "categoryorder": "array",
         "domain": [
          0,
          1
         ],
         "title": {
          "text": "Drink Type"
         }
        },
        "yaxis": {
         "anchor": "x",
         "domain": [
          0,
          1
         ],
         "title": {
          "text": "Number of Standard Drinkings"
         }
        }
       }
      },
      "text/html": [
       "<div>                            <div id=\"a169d63d-d500-4ef2-a46b-cabd0066ca81\" class=\"plotly-graph-div\" style=\"height:600px; width:500px;\"></div>            <script type=\"text/javascript\">                require([\"plotly\"], function(Plotly) {                    window.PLOTLYENV=window.PLOTLYENV || {};                                    if (document.getElementById(\"a169d63d-d500-4ef2-a46b-cabd0066ca81\")) {                    Plotly.newPlot(                        \"a169d63d-d500-4ef2-a46b-cabd0066ca81\",                        [{\"alignmentgroup\":\"True\",\"hovertemplate\":\"Drink Type=%{x}<br>Number of Standard Drinkings=%{y}<extra></extra>\",\"legendgroup\":\"Full/Mid-strength Beer\",\"marker\":{\"color\":\"cyan\",\"opacity\":0.95,\"pattern\":{\"shape\":\"\"}},\"name\":\"Full/Mid-strength Beer\",\"offsetgroup\":\"Full/Mid-strength Beer\",\"orientation\":\"v\",\"showlegend\":true,\"textposition\":\"auto\",\"x\":[\"Full/Mid-strength Beer\"],\"xaxis\":\"x\",\"y\":[1.1],\"yaxis\":\"y\",\"type\":\"bar\"},{\"alignmentgroup\":\"True\",\"hovertemplate\":\"Drink Type=%{x}<br>Number of Standard Drinkings=%{y}<extra></extra>\",\"legendgroup\":\"Glass Wine\",\"marker\":{\"color\":\"lightgreen\",\"opacity\":0.95,\"pattern\":{\"shape\":\"\"}},\"name\":\"Glass Wine\",\"offsetgroup\":\"Glass Wine\",\"orientation\":\"v\",\"showlegend\":true,\"textposition\":\"auto\",\"x\":[\"Glass Wine\"],\"xaxis\":\"x\",\"y\":[1.5],\"yaxis\":\"y\",\"type\":\"bar\"},{\"alignmentgroup\":\"True\",\"hovertemplate\":\"Drink Type=%{x}<br>Number of Standard Drinkings=%{y}<extra></extra>\",\"legendgroup\":\"Bottle Wine\",\"marker\":{\"color\":\"orange\",\"opacity\":0.95,\"pattern\":{\"shape\":\"\"}},\"name\":\"Bottle Wine\",\"offsetgroup\":\"Bottle Wine\",\"orientation\":\"v\",\"showlegend\":true,\"textposition\":\"auto\",\"x\":[\"Bottle Wine\"],\"xaxis\":\"x\",\"y\":[7.7],\"yaxis\":\"y\",\"type\":\"bar\"},{\"alignmentgroup\":\"True\",\"hovertemplate\":\"Drink Type=%{x}<br>Number of Standard Drinkings=%{y}<extra></extra>\",\"legendgroup\":\"Low-strength Beer\",\"marker\":{\"color\":\"yellow\",\"opacity\":0.95,\"pattern\":{\"shape\":\"\"}},\"name\":\"Low-strength Beer\",\"offsetgroup\":\"Low-strength Beer\",\"orientation\":\"v\",\"showlegend\":true,\"textposition\":\"auto\",\"x\":[\"Low-strength Beer\"],\"xaxis\":\"x\",\"y\":[0.6],\"yaxis\":\"y\",\"type\":\"bar\"}],                        {\"template\":{\"data\":{\"barpolar\":[{\"marker\":{\"line\":{\"color\":\"rgb(17,17,17)\",\"width\":0.5},\"pattern\":{\"fillmode\":\"overlay\",\"size\":10,\"solidity\":0.2}},\"type\":\"barpolar\"}],\"bar\":[{\"error_x\":{\"color\":\"#f2f5fa\"},\"error_y\":{\"color\":\"#f2f5fa\"},\"marker\":{\"line\":{\"color\":\"rgb(17,17,17)\",\"width\":0.5},\"pattern\":{\"fillmode\":\"overlay\",\"size\":10,\"solidity\":0.2}},\"type\":\"bar\"}],\"carpet\":[{\"aaxis\":{\"endlinecolor\":\"#A2B1C6\",\"gridcolor\":\"#506784\",\"linecolor\":\"#506784\",\"minorgridcolor\":\"#506784\",\"startlinecolor\":\"#A2B1C6\"},\"baxis\":{\"endlinecolor\":\"#A2B1C6\",\"gridcolor\":\"#506784\",\"linecolor\":\"#506784\",\"minorgridcolor\":\"#506784\",\"startlinecolor\":\"#A2B1C6\"},\"type\":\"carpet\"}],\"choropleth\":[{\"colorbar\":{\"outlinewidth\":0,\"ticks\":\"\"},\"type\":\"choropleth\"}],\"contourcarpet\":[{\"colorbar\":{\"outlinewidth\":0,\"ticks\":\"\"},\"type\":\"contourcarpet\"}],\"contour\":[{\"colorbar\":{\"outlinewidth\":0,\"ticks\":\"\"},\"colorscale\":[[0.0,\"#0d0887\"],[0.1111111111111111,\"#46039f\"],[0.2222222222222222,\"#7201a8\"],[0.3333333333333333,\"#9c179e\"],[0.4444444444444444,\"#bd3786\"],[0.5555555555555556,\"#d8576b\"],[0.6666666666666666,\"#ed7953\"],[0.7777777777777778,\"#fb9f3a\"],[0.8888888888888888,\"#fdca26\"],[1.0,\"#f0f921\"]],\"type\":\"contour\"}],\"heatmapgl\":[{\"colorbar\":{\"outlinewidth\":0,\"ticks\":\"\"},\"colorscale\":[[0.0,\"#0d0887\"],[0.1111111111111111,\"#46039f\"],[0.2222222222222222,\"#7201a8\"],[0.3333333333333333,\"#9c179e\"],[0.4444444444444444,\"#bd3786\"],[0.5555555555555556,\"#d8576b\"],[0.6666666666666666,\"#ed7953\"],[0.7777777777777778,\"#fb9f3a\"],[0.8888888888888888,\"#fdca26\"],[1.0,\"#f0f921\"]],\"type\":\"heatmapgl\"}],\"heatmap\":[{\"colorbar\":{\"outlinewidth\":0,\"ticks\":\"\"},\"colorscale\":[[0.0,\"#0d0887\"],[0.1111111111111111,\"#46039f\"],[0.2222222222222222,\"#7201a8\"],[0.3333333333333333,\"#9c179e\"],[0.4444444444444444,\"#bd3786\"],[0.5555555555555556,\"#d8576b\"],[0.6666666666666666,\"#ed7953\"],[0.7777777777777778,\"#fb9f3a\"],[0.8888888888888888,\"#fdca26\"],[1.0,\"#f0f921\"]],\"type\":\"heatmap\"}],\"histogram2dcontour\":[{\"colorbar\":{\"outlinewidth\":0,\"ticks\":\"\"},\"colorscale\":[[0.0,\"#0d0887\"],[0.1111111111111111,\"#46039f\"],[0.2222222222222222,\"#7201a8\"],[0.3333333333333333,\"#9c179e\"],[0.4444444444444444,\"#bd3786\"],[0.5555555555555556,\"#d8576b\"],[0.6666666666666666,\"#ed7953\"],[0.7777777777777778,\"#fb9f3a\"],[0.8888888888888888,\"#fdca26\"],[1.0,\"#f0f921\"]],\"type\":\"histogram2dcontour\"}],\"histogram2d\":[{\"colorbar\":{\"outlinewidth\":0,\"ticks\":\"\"},\"colorscale\":[[0.0,\"#0d0887\"],[0.1111111111111111,\"#46039f\"],[0.2222222222222222,\"#7201a8\"],[0.3333333333333333,\"#9c179e\"],[0.4444444444444444,\"#bd3786\"],[0.5555555555555556,\"#d8576b\"],[0.6666666666666666,\"#ed7953\"],[0.7777777777777778,\"#fb9f3a\"],[0.8888888888888888,\"#fdca26\"],[1.0,\"#f0f921\"]],\"type\":\"histogram2d\"}],\"histogram\":[{\"marker\":{\"pattern\":{\"fillmode\":\"overlay\",\"size\":10,\"solidity\":0.2}},\"type\":\"histogram\"}],\"mesh3d\":[{\"colorbar\":{\"outlinewidth\":0,\"ticks\":\"\"},\"type\":\"mesh3d\"}],\"parcoords\":[{\"line\":{\"colorbar\":{\"outlinewidth\":0,\"ticks\":\"\"}},\"type\":\"parcoords\"}],\"pie\":[{\"automargin\":true,\"type\":\"pie\"}],\"scatter3d\":[{\"line\":{\"colorbar\":{\"outlinewidth\":0,\"ticks\":\"\"}},\"marker\":{\"colorbar\":{\"outlinewidth\":0,\"ticks\":\"\"}},\"type\":\"scatter3d\"}],\"scattercarpet\":[{\"marker\":{\"colorbar\":{\"outlinewidth\":0,\"ticks\":\"\"}},\"type\":\"scattercarpet\"}],\"scattergeo\":[{\"marker\":{\"colorbar\":{\"outlinewidth\":0,\"ticks\":\"\"}},\"type\":\"scattergeo\"}],\"scattergl\":[{\"marker\":{\"line\":{\"color\":\"#283442\"}},\"type\":\"scattergl\"}],\"scattermapbox\":[{\"marker\":{\"colorbar\":{\"outlinewidth\":0,\"ticks\":\"\"}},\"type\":\"scattermapbox\"}],\"scatterpolargl\":[{\"marker\":{\"colorbar\":{\"outlinewidth\":0,\"ticks\":\"\"}},\"type\":\"scatterpolargl\"}],\"scatterpolar\":[{\"marker\":{\"colorbar\":{\"outlinewidth\":0,\"ticks\":\"\"}},\"type\":\"scatterpolar\"}],\"scatter\":[{\"marker\":{\"line\":{\"color\":\"#283442\"}},\"type\":\"scatter\"}],\"scatterternary\":[{\"marker\":{\"colorbar\":{\"outlinewidth\":0,\"ticks\":\"\"}},\"type\":\"scatterternary\"}],\"surface\":[{\"colorbar\":{\"outlinewidth\":0,\"ticks\":\"\"},\"colorscale\":[[0.0,\"#0d0887\"],[0.1111111111111111,\"#46039f\"],[0.2222222222222222,\"#7201a8\"],[0.3333333333333333,\"#9c179e\"],[0.4444444444444444,\"#bd3786\"],[0.5555555555555556,\"#d8576b\"],[0.6666666666666666,\"#ed7953\"],[0.7777777777777778,\"#fb9f3a\"],[0.8888888888888888,\"#fdca26\"],[1.0,\"#f0f921\"]],\"type\":\"surface\"}],\"table\":[{\"cells\":{\"fill\":{\"color\":\"#506784\"},\"line\":{\"color\":\"rgb(17,17,17)\"}},\"header\":{\"fill\":{\"color\":\"#2a3f5f\"},\"line\":{\"color\":\"rgb(17,17,17)\"}},\"type\":\"table\"}]},\"layout\":{\"annotationdefaults\":{\"arrowcolor\":\"#f2f5fa\",\"arrowhead\":0,\"arrowwidth\":1},\"autotypenumbers\":\"strict\",\"coloraxis\":{\"colorbar\":{\"outlinewidth\":0,\"ticks\":\"\"}},\"colorscale\":{\"diverging\":[[0,\"#8e0152\"],[0.1,\"#c51b7d\"],[0.2,\"#de77ae\"],[0.3,\"#f1b6da\"],[0.4,\"#fde0ef\"],[0.5,\"#f7f7f7\"],[0.6,\"#e6f5d0\"],[0.7,\"#b8e186\"],[0.8,\"#7fbc41\"],[0.9,\"#4d9221\"],[1,\"#276419\"]],\"sequential\":[[0.0,\"#0d0887\"],[0.1111111111111111,\"#46039f\"],[0.2222222222222222,\"#7201a8\"],[0.3333333333333333,\"#9c179e\"],[0.4444444444444444,\"#bd3786\"],[0.5555555555555556,\"#d8576b\"],[0.6666666666666666,\"#ed7953\"],[0.7777777777777778,\"#fb9f3a\"],[0.8888888888888888,\"#fdca26\"],[1.0,\"#f0f921\"]],\"sequentialminus\":[[0.0,\"#0d0887\"],[0.1111111111111111,\"#46039f\"],[0.2222222222222222,\"#7201a8\"],[0.3333333333333333,\"#9c179e\"],[0.4444444444444444,\"#bd3786\"],[0.5555555555555556,\"#d8576b\"],[0.6666666666666666,\"#ed7953\"],[0.7777777777777778,\"#fb9f3a\"],[0.8888888888888888,\"#fdca26\"],[1.0,\"#f0f921\"]]},\"colorway\":[\"#636efa\",\"#EF553B\",\"#00cc96\",\"#ab63fa\",\"#FFA15A\",\"#19d3f3\",\"#FF6692\",\"#B6E880\",\"#FF97FF\",\"#FECB52\"],\"font\":{\"color\":\"#f2f5fa\"},\"geo\":{\"bgcolor\":\"rgb(17,17,17)\",\"lakecolor\":\"rgb(17,17,17)\",\"landcolor\":\"rgb(17,17,17)\",\"showlakes\":true,\"showland\":true,\"subunitcolor\":\"#506784\"},\"hoverlabel\":{\"align\":\"left\"},\"hovermode\":\"closest\",\"mapbox\":{\"style\":\"dark\"},\"paper_bgcolor\":\"rgb(17,17,17)\",\"plot_bgcolor\":\"rgb(17,17,17)\",\"polar\":{\"angularaxis\":{\"gridcolor\":\"#506784\",\"linecolor\":\"#506784\",\"ticks\":\"\"},\"bgcolor\":\"rgb(17,17,17)\",\"radialaxis\":{\"gridcolor\":\"#506784\",\"linecolor\":\"#506784\",\"ticks\":\"\"}},\"scene\":{\"xaxis\":{\"backgroundcolor\":\"rgb(17,17,17)\",\"gridcolor\":\"#506784\",\"gridwidth\":2,\"linecolor\":\"#506784\",\"showbackground\":true,\"ticks\":\"\",\"zerolinecolor\":\"#C8D4E3\"},\"yaxis\":{\"backgroundcolor\":\"rgb(17,17,17)\",\"gridcolor\":\"#506784\",\"gridwidth\":2,\"linecolor\":\"#506784\",\"showbackground\":true,\"ticks\":\"\",\"zerolinecolor\":\"#C8D4E3\"},\"zaxis\":{\"backgroundcolor\":\"rgb(17,17,17)\",\"gridcolor\":\"#506784\",\"gridwidth\":2,\"linecolor\":\"#506784\",\"showbackground\":true,\"ticks\":\"\",\"zerolinecolor\":\"#C8D4E3\"}},\"shapedefaults\":{\"line\":{\"color\":\"#f2f5fa\"}},\"sliderdefaults\":{\"bgcolor\":\"#C8D4E3\",\"bordercolor\":\"rgb(17,17,17)\",\"borderwidth\":1,\"tickwidth\":0},\"ternary\":{\"aaxis\":{\"gridcolor\":\"#506784\",\"linecolor\":\"#506784\",\"ticks\":\"\"},\"baxis\":{\"gridcolor\":\"#506784\",\"linecolor\":\"#506784\",\"ticks\":\"\"},\"bgcolor\":\"rgb(17,17,17)\",\"caxis\":{\"gridcolor\":\"#506784\",\"linecolor\":\"#506784\",\"ticks\":\"\"}},\"title\":{\"x\":0.05},\"updatemenudefaults\":{\"bgcolor\":\"#506784\",\"borderwidth\":0},\"xaxis\":{\"automargin\":true,\"gridcolor\":\"#283442\",\"linecolor\":\"#506784\",\"ticks\":\"\",\"title\":{\"standoff\":15},\"zerolinecolor\":\"#283442\",\"zerolinewidth\":2},\"yaxis\":{\"automargin\":true,\"gridcolor\":\"#283442\",\"linecolor\":\"#506784\",\"ticks\":\"\",\"title\":{\"standoff\":15},\"zerolinecolor\":\"#283442\",\"zerolinewidth\":2}}},\"xaxis\":{\"anchor\":\"y\",\"domain\":[0.0,1.0],\"title\":{\"text\":\"Drink Type\"},\"categoryorder\":\"array\",\"categoryarray\":[\"Full/Mid-strength Beer\",\"Glass Wine\",\"Bottle Wine\",\"Low-strength Beer\"]},\"yaxis\":{\"anchor\":\"x\",\"domain\":[0.0,1.0],\"title\":{\"text\":\"Number of Standard Drinkings\"}},\"legend\":{\"title\":{\"text\":\"Drink Type\"},\"tracegroupgap\":0},\"margin\":{\"t\":60},\"barmode\":\"relative\",\"title\":{\"font\":{\"family\":\"Arial\",\"size\":25},\"text\":\"Standard Drink Number for Each Drink\",\"x\":0.5,\"y\":0.95},\"font\":{\"size\":10,\"family\":\"Verdana\"},\"showlegend\":false,\"hovermode\":\"closest\",\"width\":500,\"height\":600,\"bargap\":0.05},                        {\"displayModeBar\": false, \"showTips\": false, \"responsive\": true}                    ).then(function(){\n",
       "                            \n",
       "var gd = document.getElementById('a169d63d-d500-4ef2-a46b-cabd0066ca81');\n",
       "var x = new MutationObserver(function (mutations, observer) {{\n",
       "        var display = window.getComputedStyle(gd).display;\n",
       "        if (!display || display === 'none') {{\n",
       "            console.log([gd, 'removed!']);\n",
       "            Plotly.purge(gd);\n",
       "            observer.disconnect();\n",
       "        }}\n",
       "}});\n",
       "\n",
       "// Listen for the removal of the full notebook cells\n",
       "var notebookContainer = gd.closest('#notebook-container');\n",
       "if (notebookContainer) {{\n",
       "    x.observe(notebookContainer, {childList: true});\n",
       "}}\n",
       "\n",
       "// Listen for the clearing of the current output cell\n",
       "var outputEl = gd.closest('.output');\n",
       "if (outputEl) {{\n",
       "    x.observe(outputEl, {childList: true});\n",
       "}}\n",
       "\n",
       "                        })                };                });            </script>        </div>"
      ]
     },
     "metadata": {},
     "output_type": "display_data"
    }
   ],
   "source": [
    "fig2 = px.bar(df_calorie, x=\"Drink Type\", y=\"Number of Standard Drinkings\", color = \"Drink Type\",\n",
    "             color_discrete_map={'Full/Mid-strength Beer': 'cyan','Glass Wine': 'lightgreen',\n",
    "                                       'Bottle Wine' : 'orange' ,'Low-strength Beer':'yellow'}, opacity = 0.95)\n",
    "fig2.update_layout(template = 'plotly_dark', title = dict(text =\"Standard Drink Number for Each Drink\" ,\n",
    "                                                          x = 0.5, y = 0.95),\n",
    "                   title_font= dict(family = 'Arial', size = 25),\n",
    "                   showlegend=False,\n",
    "                   font = dict(size = 10, family = 'Verdana'),hovermode = 'closest',\n",
    "                   width  = 500, height = 600, bargap=0.05)\n",
    "                                                                \n",
    "#fig2.update_traces(marker_color='lightcyan')\n",
    "\n",
    "fig2.show(config={\"displayModeBar\": False, \"showTips\": False})\n"
   ]
  },
  {
   "cell_type": "code",
   "execution_count": 106,
   "id": "1efc8b80",
   "metadata": {},
   "outputs": [],
   "source": [
    "username = 'syedkabir' # your username\n",
    "api_key = 'GKORC8kZTNrqkz9aFvey' # your api key - go to profile > settings > regenerate key\n",
    "cs.tools.set_credentials_file(username=username, api_key=api_key)"
   ]
  },
  {
   "cell_type": "code",
   "execution_count": 134,
   "id": "ec65175c",
   "metadata": {},
   "outputs": [
    {
     "data": {
      "text/plain": [
       "'https://plotly.com/~syedkabir/10/'"
      ]
     },
     "execution_count": 134,
     "metadata": {},
     "output_type": "execute_result"
    }
   ],
   "source": [
    "py.plot(fig1, filename = 'standard_drinking_quantity', auto_open=False)"
   ]
  },
  {
   "cell_type": "code",
   "execution_count": 135,
   "id": "6f5b664f",
   "metadata": {},
   "outputs": [
    {
     "data": {
      "text/plain": [
       "'https://plotly.com/~syedkabir/13/'"
      ]
     },
     "execution_count": 135,
     "metadata": {},
     "output_type": "execute_result"
    }
   ],
   "source": [
    "py.plot(fig2, filename = 'standard_drinking', auto_open=False)"
   ]
  },
  {
   "cell_type": "code",
   "execution_count": null,
   "id": "0a63daf4",
   "metadata": {},
   "outputs": [],
   "source": []
  }
 ],
 "metadata": {
  "kernelspec": {
   "display_name": "Python 3 (ipykernel)",
   "language": "python",
   "name": "python3"
  },
  "language_info": {
   "codemirror_mode": {
    "name": "ipython",
    "version": 3
   },
   "file_extension": ".py",
   "mimetype": "text/x-python",
   "name": "python",
   "nbconvert_exporter": "python",
   "pygments_lexer": "ipython3",
   "version": "3.8.12"
  },
  "toc": {
   "base_numbering": 1,
   "nav_menu": {},
   "number_sections": true,
   "sideBar": true,
   "skip_h1_title": false,
   "title_cell": "Table of Contents",
   "title_sidebar": "Contents",
   "toc_cell": false,
   "toc_position": {},
   "toc_section_display": true,
   "toc_window_display": false
  }
 },
 "nbformat": 4,
 "nbformat_minor": 5
}
